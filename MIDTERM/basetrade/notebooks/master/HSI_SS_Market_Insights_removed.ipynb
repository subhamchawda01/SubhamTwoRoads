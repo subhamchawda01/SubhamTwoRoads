{
 "metadata": {
  "anaconda-cloud": {},
  "kernelspec": {
   "display_name": "R",
   "language": "R",
   "name": "ir"
  },
  "language_info": {
   "codemirror_mode": "r",
   "file_extension": ".r",
   "mimetype": "text/x-r-source",
   "name": "R",
   "pygments_lexer": "r",
   "version": "3.3.2"
  },
  "name": ""
 },
 "nbformat": 3,
 "nbformat_minor": 0,
 "worksheets": [
  {
   "cells": [
    {
     "cell_type": "markdown",
     "metadata": {},
     "source": [
      "## This is a market microstructure monitor for the HangSeng Futures (Afternoon Session)\n",
      "\n",
      "### Introduction\n",
      "As a trader we need to be alert in case the market environment changes suddenly. It is often non trivial to understand if the variables, that actually govern profitability of the strategy, have changed.\n",
      "\n",
      "### Implementation\n",
      "This will help us visualize summary statistics of HSI market structure acrooss different periods.\n",
      "\n",
      "The set of all features we support now:\n",
      "* 'VOL' \n",
      "* 'STDEV'\n",
      "* 'L1SZ' \n",
      "* 'L1EVPerSec'\n",
      "* 'TREND'\n",
      "* 'TrendStdev' \n",
      "* 'ORDSZ' \n",
      "* 'TRADES' \n",
      "* 'SSTREND' \n",
      "* 'TOR' \n",
      "* 'BidAskSpread'\n",
      "* 'AvgPrice'\n",
      "\n",
      "### Outline\n",
      "* [Section 1](#Section-1) is mostly procedural\n",
      "* [Section 2](#Section-2) visualize data over recent 20 days, 40 days and 200 days\n",
      "* [Section 3](#Section-3) visualize data for related products ES and FESX over recent 20 days\n",
      "\n",
      "### Individual User Input\n",
      "* Product (shortcode)\n",
      "* Time Period (time_period)\n",
      "* Affiliated Products (affiliated_products 2 in number)\n",
      "* Features of market structure "
     ]
    },
    {
     "cell_type": "markdown",
     "metadata": {},
     "source": [
      "### Section 1\n",
      "\n",
      "Libraries needed to be included for work and plotting. A function to convert dates from YYYYMMDD numeric to YYYY-MM-DD is declared. Todays date is obtained.\n"
     ]
    },
    {
     "cell_type": "code",
     "collapsed": false,
     "input": [
      "#rm(list=ls(all=TRUE))\n",
      "library(data.table)\n",
      "library('reshape2')\n",
      "library('ggplot2')\n",
      "library(gridExtra)\n",
      "library(lattice)\n",
      "library(lubridate)\n",
      "#install.packages(\"\", contriburl=\"http://cran.rstudio.com/src/contrib/\")\n",
      "# some helper functions and what features you want to see\n",
      "convert<-function(date1){date<-as.character(date1);(paste(as.character(substr(date,1,4)),as.character(substr(date,5,6)),as.character(substr(date,7,8)),sep=\"-\"))}\n",
      "yy<-as.character(year(Sys.Date()))\n",
      "mm<-(month(Sys.Date()))\n",
      "mm<-formatC(mm, width=2, flag=\"0\")\n",
      "dd<-day(Sys.Date())\n",
      "dd<-formatC(dd, width=2, flag="0")\n",
      "\n",
      "date<-paste0(yy,mm,dd)\n",
      "date\n",
      "print(\"Today's date...\")\n",
      "today_ = date\n",
      "today_\n",
      "\n"
     ],
     "language": "python",
     "metadata": {},
     "outputs": [],
     "prompt_number": null
    },
    {
     "cell_type": "heading",
     "level": 3,
     "metadata": {},
     "source": [
      "User Input Required Below"
     ]
    },
    {
     "cell_type": "code",
     "collapsed": false,
     "input": [
      "shortcode=\"HSI_0\"\n",
      "time_period = \"HKT_1300 HKT_1600\"\n",
      "affiliated_products<-c(\"ES_0\",\"NK_0\")\n",
      "feature_=c('TRADES','L1SZ','STDEV','VOL','AvgPrice','SSTREND','BidAskSpread')\n",
      "## a possible large feature set\n",
      "#feature_=c('VOL' ,'STDEV', 'L1SZ' ,'L1EVPerSec', 'TREND', 'TrendStdev' ,'ORDSZ' ,'TRADES' ,'SSTREND' ,'TOR' ,'BidAskSpread', 'AvgPrice')"
     ],
     "language": "python",
     "metadata": {},
     "outputs": [],
     "prompt_number": null
    },
    {
     "cell_type": "markdown",
     "metadata": {},
     "source": [
      "### Section 2\n",
      "Now visualize sample data over 20, 40 and 200 days"
     ]
    },
    {
     "cell_type": "code",
     "collapsed": false,
     "input": [
      "\n",
      "data_<-NULL\n",
      "N=20\n",
      "for (jj in 1:length(feature_)){\n",
      "    cmd_=paste0('~/basetrade/scripts/get_avg_samples.pl ',shortcode,' ',today_,' ',N,' ',time_period,' 1 ',feature_[jj],' | tail -n +2 > /spare/local/psarthy/vol')\n",
      "    system(cmd_)\n",
      "    days=fread(\"/spare/local/psarthy/vol\")\n",
      "    days$name=feature_[jj]\n",
      "    days[,V1:=sapply(V1,convert)]\n",
      "\n",
      "\n",
      "    \n",
      "    data_<-rbind(data_,days)\n",
      "    \n",
      "    }\n",
      "    \n",
      "p<-ggplot(data=data_, aes(x=V1, y=V2, col=name, group = 1)) + geom_line()\n",
      "p<-p + theme(legend.position=\"top\")+ggtitle(paste0(\"Sample Data  \",shortcode,\" 20 days\"))\n",
      "p<-p + theme(axis.text.x = element_text(angle = 90, hjust = 1))\n",
      "p<-p+facet_grid(name~.,scales=\"free\") +theme(strip.background = element_blank())\n",
      "p"
     ],
     "language": "python",
     "metadata": {},
     "outputs": [],
     "prompt_number": null
    },
    {
     "cell_type": "code",
     "collapsed": false,
     "input": [
      "data_<-NULL\n",
      "N=40\n",
      "for (jj in 1:length(feature_)){\n",
      "    cmd_=paste0('~/basetrade/scripts/get_avg_samples.pl ',shortcode,' ',today_,' ',N,' ',time_period,' 1 ',feature_[jj],' | tail -n +2 > /spare/local/psarthy/vol')\n",
      "    system(cmd_)\n",
      "    days=fread(\"/spare/local/psarthy/vol\")\n",
      "    days$name=feature_[jj]\n",
      "    days[,V1:=sapply(V1,convert)]\n",
      "\n",
      "\n",
      "    \n",
      "    data_<-rbind(data_,days)\n",
      "    \n",
      "    }\n",
      "    \n",
      "p<-ggplot(data=data_, aes(x=V1, y=V2, col=name, group = 1)) + geom_line()\n",
      "p<-p + theme(legend.position=\"top\")+ggtitle(paste0(\"Sample Data  \",shortcode,\" 40 days\"))\n",
      "p<-p + theme(axis.text.x = element_text(angle = 90, hjust = 1))\n",
      "p<-p+facet_grid(name~.,scales=\"free\") +theme(strip.background = element_blank())\n",
      "p"
     ],
     "language": "python",
     "metadata": {},
     "outputs": [],
     "prompt_number": null
    },
    {
     "cell_type": "code",
     "collapsed": false,
     "input": [
      "data_<-NULL\n",
      "N=200\n",
      "for (jj in 1:length(feature_)){\n",
      "    cmd_=paste0('~/basetrade/scripts/get_avg_samples.pl ',shortcode,' ',today_,' ',N,' ',time_period,' 1 ',feature_[jj],' | tail -n +2 > /spare/local/psarthy/vol')\n",
      "    system(cmd_)\n",
      "    days=fread(\"/spare/local/psarthy/vol\")\n",
      "    days$name=feature_[jj]\n",
      "    days[,V1:=sapply(V1,convert)]\n",
      "\n",
      "\n",
      "    \n",
      "    data_<-rbind(data_,days)\n",
      "    \n",
      "    }\n",
      "    \n",
      "p<-ggplot(data=data_, aes(x=V1, y=V2, col=name, group = 1)) + geom_line()\n",
      "p<-p + theme(legend.position=\"top\")+ggtitle(paste0(\"Sample Data  \",shortcode,\" 200 days\"))\n",
      "p<-p + theme(axis.text.x = element_text(angle = 90, hjust = 1))\n",
      "p<-p+facet_grid(name~.,scales=\"free\") +theme(strip.background = element_blank())\n",
      "p"
     ],
     "language": "python",
     "metadata": {},
     "outputs": [],
     "prompt_number": null
    },
    {
     "cell_type": "markdown",
     "metadata": {},
     "source": [
      "### Section-3\n",
      "\n",
      "Section 3 is for affiliated product visualization. In this case BAX_3 and ZN."
     ]
    },
    {
     "cell_type": "code",
     "collapsed": false,
     "input": [
      "data_<-NULL\n",
      "N=20\n",
      "for (jj in 1:length(feature_)){\n",
      "    cmd_=paste0('~/basetrade/scripts/get_avg_samples.pl ',affiliated_products[1],' ',today_,' ',N,' ',time_period,' 1 ',feature_[jj],' | tail -n +2 > /spare/local/psarthy/vol')\n",
      "    system(cmd_)\n",
      "    days=fread(\"/spare/local/psarthy/vol\")\n",
      "    days$name=feature_[jj]\n",
      "    days[,V1:=sapply(V1,convert)]\n",
      "\n",
      "\n",
      "    \n",
      "    data_<-rbind(data_,days)\n",
      "    \n",
      "    }\n",
      "\n",
      "p<-ggplot(data=data_, aes(x=V1, y=V2, col=name, group = 1)) + geom_line()\n",
      "p<-p + theme(legend.position=\"top\")+ggtitle(paste0(\"Sample Data \",affiliated_products[1] ) )\n",
      "p<-p + theme(axis.text.x = element_text(angle = 90, hjust = 1))\n",
      "p<-p+facet_grid(name~.,scales=\"free\") +theme(strip.background = element_blank())\n",
      "p"
     ],
     "language": "python",
     "metadata": {},
     "outputs": [],
     "prompt_number": null
    },
    {
     "cell_type": "code",
     "collapsed": false,
     "input": [
      "data_<-NULL\n",
      "\n",
      "N=20\n",
      "for (jj in 1:length(feature_)){\n",
      "    cmd_=paste0('~/basetrade/scripts/get_avg_samples.pl ',affiliated_products[2],' ',today_,' ',N,' ',time_period,' 1 ',feature_[jj],' | tail -n +2 > /spare/local/psarthy/vol')\n",
      "    system(cmd_)\n",
      "    days=fread(\"/spare/local/psarthy/vol\")\n",
      "    days$name=feature_[jj]\n",
      "    days[,V1:=sapply(V1,convert)]\n",
      "\n",
      "\n",
      "    \n",
      "    data_<-rbind(data_,days)\n",
      "    \n",
      "    }\n",
      "    \n",
      "p<-ggplot(data=data_, aes(x=V1, y=V2, col=name, group = 1)) + geom_line()\n",
      "p<-p + theme(legend.position=\"top\")+ggtitle(paste0(\"Sample Data \",affiliated_products[2] ) )\n",
      "p<-p + theme(axis.text.x = element_text(angle = 90, hjust = 1))\n",
      "p<-p+facet_grid(name~.,scales=\"free\") +theme(strip.background = element_blank())\n",
      "p"
     ],
     "language": "python",
     "metadata": {},
     "outputs": [],
     "prompt_number": null
    }
   ],
   "metadata": {}
  }
 ]
}
