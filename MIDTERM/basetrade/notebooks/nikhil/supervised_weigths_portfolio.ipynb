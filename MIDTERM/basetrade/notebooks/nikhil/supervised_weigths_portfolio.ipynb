{
 "metadata": {
  "anaconda-cloud": {},
  "kernelspec": {
   "display_name": "Python 2",
   "language": "python",
   "name": "python2"
  },
  "language_info": {
   "codemirror_mode": {
    "name": "ipython",
    "version": 2
   },
   "file_extension": ".py",
   "mimetype": "text/x-python",
   "name": "python",
   "nbconvert_exporter": "python",
   "pygments_lexer": "ipython2",
   "version": "2.7.12"
  },
  "name": ""
 },
 "nbformat": 3,
 "nbformat_minor": 0,
 "worksheets": [
  {
   "cells": [
    {
     "cell_type": "code",
     "collapsed": true,
     "input": [
      "# This notebook is created to learn the weights of the sources in a portfolio for a dependent in a supervised way \n",
      "# through linear regression, under the constraints that the sign of the weights should be intuitive. So you can put \n",
      "# sign as +1 if you think it is positively correlated and -1 for negative correlation. In case you do not want to \n",
      "# specify the sign you can give 0 as input, it will calculate the sign of correlation and set that as the constraint\n",
      "# The idea of conducting this experiment is that the weights learnt through regression would be better than those\n",
      "# learnt through PCA as in PCA we don't consider the correlation between the dependent and the source\n",
      "# This notebook has further functionalities such as comparing the correlation of trend or delta price with regression \n",
      "# and pca sumvars in training and test space\n",
      "\n",
      "# We are still working on making this notebook more reach in terms of visualisation and comparisons"
     ],
     "language": "python",
     "metadata": {},
     "outputs": [],
     "prompt_number": null
    },
    {
     "cell_type": "code",
     "collapsed": false,
     "input": [
      "#Libraries to import here\n",
      "\n",
      "import os\n",
      "import notebook_functions\n",
      "reload(notebook_functions)\n",
      "from notebook_functions import *"
     ],
     "language": "python",
     "metadata": {},
     "outputs": [],
     "prompt_number": 1
    },
    {
     "cell_type": "heading",
     "level": 1,
     "metadata": {},
     "source": [
      "Specify the inputs and run the cell to get the charts of correlation of dy (delta price of dep) with Pca trend and Reg Trend and the ratio of weights of individual components to sum of weights"
     ]
    },
    {
     "cell_type": "code",
     "collapsed": false,
     "input": [
      "#specify the working directory so that you can use this again without having to run datagen again\n",
      "work_dir ='/home/dvctrader/nikhil/fdax_esfesx/'\n",
      "delete_all_files(work_dir)\n",
      "datagen_created  = 0                     # if datagen files are alread created in the given directory set to 1 else 0\n",
      "start_date       = 20160101               # int\n",
      "end_date         = 20170525               # int\n",
      "start_time       = 'EST_800'              # str\n",
      "end_time         = 'CET_2100'             # str\n",
      "dep_             = 'FDAX_0'                 # str\n",
      "indeps_          = ['ES_0','FESX_0'] # indeps in a list\n",
      "indep_signs      = [1,1]                # sign of indeps in a list\n",
      "pred_duration    = 100                     # int\n",
      "pred_algo        = 'na_e3'                # str\n",
      "pca_port         = ''\n",
      "test_days        = 5\n",
      "training_days    = 20\n",
      "\n",
      "if not((os.path.exists(work_dir))):\n",
      "    os.makedirs(work_dir)\n",
      "\n",
      "if datagen_created:\n",
      "    df_correlations,df_reg_weights,df_pca_weights,df_stdevs,df_beta_reg,df_beta_pca = main_function_after_dg_port(start_date,end_date,start_time,end_time,dep_,indeps_,indep_signs,pred_duration,pred_algo,work_dir,pca_port,test_days,training_days)\n",
      "else:\n",
      "    df_correlations,df_reg_weights,df_pca_weights,df_stdevs,df_beta_reg,df_beta_pca = main_function_before_dg_port(start_date,end_date,start_time,end_time,dep_,indeps_,indep_signs,pred_duration,pred_algo,work_dir,pca_port,test_days,training_days)\n",
      "\n",
      "scale_weights(df_pca_weights,df_reg_weights,df_stdevs)\n",
      "\n",
      "plot_graphs_all(df_correlations,df_reg_weights,df_pca_weights,indeps_)"
     ],
     "language": "python",
     "metadata": {},
     "outputs": [],
     "prompt_number": 2
    },
    {
     "cell_type": "code",
     "collapsed": false,
     "input": [
      "df_correlations.head()"
     ],
     "language": "python",
     "metadata": {},
     "outputs": [],
     "prompt_number": 31
    },
    {
     "cell_type": "code",
     "collapsed": true,
     "input": [
      "#specify the working directory so that you can use this again without having to run datagen again\n",
      "work_dir ='/home/dvctrader/nikhil/_AP_ESNK/'\n",
      "delete_all_files(work_dir)\n",
      "datagen_created  = 0                      # if datagen files are alread created in the given directory set to 1 else 0\n",
      "start_date       = 20160101               # int\n",
      "end_date         = 20170501               # int\n",
      "start_time       = 'JST_905'              # str\n",
      "end_time         = 'AST_1630'             # str\n",
      "dep_             = 'AP_0'                 # str\n",
      "indeps_          = ['ES_0','NK_0'] # indeps in a list6A_0 - 6M_0 - 6C_0 - 6E_0 -\n",
      "indep_signs      = [1,1]                # sign of indeps in a list\n",
      "pred_duration    = 300                     # int\n",
      "pred_algo        = 'na_e3'                # str\n",
      "#pca_port         = 'UEQUI'\n",
      "#test_days        = 5\n",
      "#training_days    = 20\n",
      "\n",
      "if not((os.path.exists(work_dir))):\n",
      "    os.makedirs(work_dir)\n",
      "\n",
      "if datagen_created:\n",
      "    df_correlations_2,df_reg_weights_2,df_pca_weights_2,df_stdevs_2,df_beta_reg_2,df_beta_pca_2 = main_function_after_dg(start_date,end_date,start_time,end_time,dep_,indeps_,indep_signs,pred_duration,pred_algo,work_dir)\n",
      "else:\n",
      "    df_correlations_2,df_reg_weights_2,df_pca_weights_2,df_stdevs_2,df_beta_reg_2,df_beta_pca_2 = main_function_before_dg(start_date,end_date,start_time,end_time,dep_,indeps_,indep_signs,pred_duration,pred_algo,work_dir)\n",
      "    \n",
      "scale_weights(df_reg_weights_2,df_pca_weights_2,df_stdevs_2)"
     ],
     "language": "python",
     "metadata": {},
     "outputs": [],
     "prompt_number": null
    },
    {
     "cell_type": "code",
     "collapsed": false,
     "input": [
      "\n",
      "\n",
      "plot_graphs_all(df_correlations_2,df_reg_weights_2,df_pca_weights_2,indeps_)"
     ],
     "language": "python",
     "metadata": {},
     "outputs": [],
     "prompt_number": 10
    },
    {
     "cell_type": "code",
     "collapsed": false,
     "input": [
      "work_dir ='/home/dvctrader/nikhil/_yt_xt_zn/'\n",
      "delete_all_files(work_dir)\n",
      "datagen_created  = 0                       # if datagen files are alread created in the given directory set to 1 else 0\n",
      "start_date       = 20160103               # int\n",
      "end_date         = 20170430               # int\n",
      "start_time       = 'AST_835'              # str\n",
      "end_time         = 'AST_1615'             # str\n",
      "dep_             = 'YT_0'                 # str\n",
      "indeps_          = ['ZN_0','XT_0'] # indeps in a list6A_0 - 6M_0 - 6C_0 - 6E_0 -\n",
      "indep_signs      = [1,1]                # sign of indeps in a list\n",
      "pred_duration    = 300                     # int\n",
      "pred_algo        = 'na_e3'                # str\n",
      "#pca_port         = 'ZN_FL'\n",
      "#test_days        = 5\n",
      "#training_days    = 20\n",
      "\n",
      "if not((os.path.exists(work_dir))):\n",
      "    os.makedirs(work_dir)\n",
      "\n",
      "if datagen_created:\n",
      "    df_correlations_3,df_reg_weights_3,df_pca_weights_3,df_stdevs_3,df_beta_reg_3,df_beta_pca_3 = main_function_after_dg(start_date,end_date,start_time,end_time,dep_,indeps_,indep_signs,pred_duration,pred_algo,work_dir)\n",
      "else:\n",
      "    df_correlations_3,df_reg_weights_3,df_pca_weights_3,df_stdevs_3,df_beta_reg_3,df_beta_pca_3 = main_function_before_dg(start_date,end_date,start_time,end_time,dep_,indeps_,indep_signs,pred_duration,pred_algo,work_dir)\n",
      "    \n",
      "scale_weights(df_reg_weights_3,df_pca_weights_3,df_stdevs_3)\n",
      "\n",
      "plot_graphs_all(df_correlations_3,df_reg_weights_3,df_pca_weights_3,indeps_)"
     ],
     "language": "python",
     "metadata": {},
     "outputs": [],
     "prompt_number": 13
    },
    {
     "cell_type": "code",
     "collapsed": false,
     "input": [
      "#specify the working directory so that you can use this again without having to run datagen again\n",
      "work_dir ='/home/dvctrader/nikhil/_XT_zn_6A/'\n",
      "delete_all_files(work_dir)\n",
      "datagen_created  = 0                        # if datagen files are alread created in the given directory set to 1 else 0\n",
      "start_date       = 20160103               # int\n",
      "end_date         = 20170430               # int\n",
      "start_time       = 'AST_835'              # str\n",
      "end_time         = 'AST_1630'             # str\n",
      "dep_             = 'XT_0'                 # str\n",
      "indeps_          = ['ZN_0','6A_0'] # indeps in a list6A_0 - 6M_0 - 6C_0 - 6E_0 -\n",
      "indep_signs      = [1,-1]                # sign of indeps in a list\n",
      "pred_duration    = 300                     # int\n",
      "pred_algo        = 'na_e3'                # str\n",
      "#pca_port         = \"provide portfolio name here\"\n",
      "#test_days        = 5\n",
      "#training_days    = 20\n",
      "\n",
      "if not((os.path.exists(work_dir))):\n",
      "    os.makedirs(work_dir)\n",
      "\n",
      "if datagen_created:\n",
      "    df_correlations_4,df_reg_weights_4,df_pca_weights_4,df_stdevs_4,df_beta_reg_4,df_beta_pca_4 = main_function_after_dg(start_date,end_date,start_time,end_time,dep_,indeps_,indep_signs,pred_duration,pred_algo,work_dir)\n",
      "else:\n",
      "    df_correlations_4,df_reg_weights_4,df_pca_weights_4,df_stdevs_4,df_beta_reg_4,df_beta_pca_4 = main_function_before_dg(start_date,end_date,start_time,end_time,dep_,indeps_,indep_signs,pred_duration,pred_algo,work_dir)\n",
      "    \n",
      "scale_weights(df_reg_weights_4,df_pca_weights_4,df_stdevs_4)\n",
      "\n",
      "plot_graphs_all(df_correlations_4,df_reg_weights_4,df_pca_weights_4,indeps_)"
     ],
     "language": "python",
     "metadata": {},
     "outputs": [],
     "prompt_number": 12
    },
    {
     "cell_type": "code",
     "collapsed": false,
     "input": [
      "#make sure to specify the correct work_dir you can use these to delete all the files created\n",
      "\n",
      "work_dir ='/home/dvctrader/nikhil/SGX_NK__/'\n",
      "delete_all_files(work_dir)"
     ],
     "language": "python",
     "metadata": {},
     "outputs": [],
     "prompt_number": 61
    },
    {
     "cell_type": "code",
     "collapsed": true,
     "input": [],
     "language": "python",
     "metadata": {},
     "outputs": [],
     "prompt_number": null
    }
   ],
   "metadata": {}
  }
 ]
}