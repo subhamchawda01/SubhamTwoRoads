{
 "metadata": {
  "anaconda-cloud": {},
  "kernelspec": {
   "display_name": "Python 2",
   "language": "python",
   "name": "python2"
  },
  "language_info": {
   "codemirror_mode": {
    "name": "ipython",
    "version": 2
   },
   "file_extension": ".py",
   "mimetype": "text/x-python",
   "name": "python",
   "nbconvert_exporter": "python",
   "pygments_lexer": "ipython2",
   "version": "2.7.12"
  },
  "name": ""
 },
 "nbformat": 3,
 "nbformat_minor": 0,
 "worksheets": [
  {
   "cells": [
    {
     "cell_type": "markdown",
     "metadata": {},
     "source": [
      "### The purpose of the notebook is to analyse the performance of indicators in the pnl space\n",
      "### Author Nikhil"
     ]
    },
    {
     "cell_type": "code",
     "collapsed": false,
     "input": [
      "## setup\n",
      "#import cufflinks as cf\n",
      "import pandas as pd\n",
      "import numpy as np\n",
      "import subprocess\n",
      "from functools import partial\n",
      "#print cf.__version__\n",
      "\n",
      "lookback=400\n",
      "import os\n",
      "import dateparser\n",
      "import matplotlib.pyplot as plt\n",
      "from datetime import datetime, timedelta\n",
      "\n",
      "#cf.set_config_file(world_readable=True,offline=False)\n",
      "\n",
      "import plotly\n",
      "print plotly.__version__            # version 1.9.4 required\n",
      "\n",
      "#from plotly import __version__\n",
      "#from plotly.offline import download_plotlyjs, init_notebook_mode, iplot\n",
      "\n",
      "\n",
      "\n",
      "#plotly.offline.init_notebook_mode() # run at the start of every notebook\n",
      "\n",
      "\n",
      "\n",
      "\n",
      "#print __version__ # requires version >= 1.9.0\n"
     ],
     "language": "python",
     "metadata": {},
     "outputs": [],
     "prompt_number": 1
    },
    {
     "cell_type": "markdown",
     "metadata": {},
     "source": [
      "### Specify the config, start_date, end_date, work dir and max_timeout which is max time you want to consider\n",
      "### for calculating the closing price"
     ]
    },
    {
     "cell_type": "code",
     "collapsed": false,
     "input": [
      "start_date = 20160701\n",
      "end_date = 20170715\n",
      "config = \"w_dat_strat_ilist_USD000UTSTOM_OMix_OMix_anshul_mp_eb_2_ac_e3_20150210_20150630_MSK_1010_EST_800_4000_9_0_0_fsg2_FSRMFSS.5.0.02.0.0.0.85.12.N.tt_MSK_1010_MSK_1400.pfi_4_std.config_inp\"\n",
      "work_dir = \"/home/dvctrader/nikhil/INDINFO/RI/\"\n",
      "max_timeout = 9000000000\n",
      "if not((os.path.exists(work_dir))):\n",
      "    os.makedirs(work_dir)\n",
      "    \n"
     ],
     "language": "python",
     "metadata": {},
     "outputs": [],
     "prompt_number": 2
    },
    {
     "cell_type": "heading",
     "level": 3,
     "metadata": {},
     "source": [
      "Run the function definitions in the below cells; nothing is to be changed here"
     ]
    },
    {
     "cell_type": "code",
     "collapsed": false,
     "input": [
      "# runs sim strategy for the given dates\n",
      "def generate_sim_strategy_logs(start_date,end_date,strategy, unique_id ):\n",
      "    date = calc_previous_day(end_date)\n",
      "    while(date>=start_date):\n",
      "        cmd = \"/home/dvctrader/basetrade_install/bin/sim_strategy SIM \" + strategy + \" \" + unique_id + \" \" + str(date) +\" ADD_DBG_CODE INDICATOR_INFO\"\n",
      "        os.system(cmd)\n",
      "        date = calc_previous_day(date)\n",
      "# greps indinfo from the log files of sim strategy\n",
      "def get_ind_info(start_date,end_date,strategy, unique_id):\n",
      "    date = calc_previous_day(end_date)\n",
      "    while(date>=start_date):\n",
      "        cmd = \"cat /spare/local/logs/tradelogs/log.\" + str(date) + \".\" +  unique_id + \" | grep INDINFO > \" + work_dir + \"/\" + str(date)\n",
      "        os.system(cmd)\n",
      "        date = calc_previous_day(date)\n",
      "# gets the strat from the config and saves it in the strategy name provided\n",
      "def get_strat_from_config(config, date,strategy):\n",
      "    cmd = \"/home/dvctrader/basetrade/walkforward/print_strat_from_config.py \" + config + \" \" + str(date) + \" > \" + strategy\n",
      "    os.system(cmd)\n",
      "# gets the ilist from the config and saves it in ilist name provided\n",
      "def get_ilist_from_config(config, date,ilist):\n",
      "    cmd = 'x=\"$(/home/dvctrader/basetrade/walkforward/print_strat_from_config.py ' + config + \" \" + str(date) + \" | awk '{print $4}'\" + ')\"; cat $x > ' + ilist\n",
      "    os.system(cmd)"
     ],
     "language": "python",
     "metadata": {},
     "outputs": [],
     "prompt_number": 3
    },
    {
     "cell_type": "code",
     "collapsed": true,
     "input": [
      "# returns the list of indicators from the ilist\n",
      "def get_indicators_from_ilist(ilist_file_name):\n",
      "    ILIST = open(ilist_file_name, \"r\")\n",
      "    lines = ILIST.read().splitlines()\n",
      "\n",
      "    indicators_list = []\n",
      "    for line in lines:\n",
      "        indx = line.find(\"#\")\n",
      "        if indx != -1:\n",
      "            line = line[:indx]\n",
      "        words_list = line.strip().split()\n",
      "        if len(words_list) == 0:\n",
      "            continue\n",
      "        if words_list[0] == \"INDICATOR\":\n",
      "            indicators_list.append(\" \".join(words_list[2:]))\n",
      "            \n",
      "    indc_map = dict(enumerate(indicators_list, 1))\n",
      "    return indc_map"
     ],
     "language": "python",
     "metadata": {},
     "outputs": [],
     "prompt_number": 4
    },
    {
     "cell_type": "code",
     "collapsed": true,
     "input": [
      "# returns the previous week day\n",
      "def calc_previous_day(date):\n",
      "    work_dir = \"/home/dvctrader/nikhil/\"\n",
      "    prev_day_calc_cmd=\"~/basetrade_install/bin/calc_prev_week_day\"+\" \"+ str(date) +\" >\"+work_dir+\"date_prev\"\n",
      "    os.system(prev_day_calc_cmd)\n",
      "    s=\"\"\n",
      "    f=open(work_dir+\"date_prev\",'r')\n",
      "    s=f.read()\n",
      "    date_prev=int(s)\n",
      "    return date_prev"
     ],
     "language": "python",
     "metadata": {},
     "outputs": [],
     "prompt_number": 5
    },
    {
     "cell_type": "code",
     "collapsed": false,
     "input": [
      "# returns the dataframe of indicator contribution and pnl series for each zero crossing,\n",
      "# pnl contribution of an indicator is (closing_price - trade_price)*trade_size*indicator_contribution\n",
      "# it also considers the  max_timeout; if a zero crossing is more than the max_timeout it takes the closing price as\n",
      "# the mktszwprice at start_time + i*(max_timeout) ; so effectively we get a list of closing prices which is\n",
      "# the mktszweightedprice at start_time + i*(max_timeout) for the points which lie between \n",
      "# start_time + i*(max_timeout) and start_time + (i-1)*(max_timeout)\n",
      "\n",
      "def get_pnl_and_contribution (work_dir, date, max_timeout):\n",
      "    f = open(work_dir + \"/\" + str(date), \"r\")\n",
      "    lines = f.read().splitlines()\n",
      "\n",
      "    pnl_indc_dat = {}\n",
      "    indc_set = set()\n",
      "    \n",
      "    time_price = {}\n",
      "    times = []\n",
      "    sectionid = 0\n",
      "    section_sign = 0\n",
      "    section_open_pnl = 0\n",
      "    section_pnl_indc_dat = []\n",
      "    unique_indc_vec = set()\n",
      "\n",
      "    for line in lines:\n",
      "        words = line.strip().split()\n",
      "        if words[0] == \"INDINFOTIME\":\n",
      "            time_price[int(words[1].split(\".\")[0])] = float(words[2])\n",
      "            times.append(int(words[1].split(\".\")[0]))\n",
      "            \n",
      "    for line in lines:\n",
      "        line = line.replace(\"[\", \"\")\n",
      "        line = line.replace(\"]\", \"\")\n",
      "        words = line.strip().split()\n",
      "        if words[0] == \"INDINFOTIME\":\n",
      "            continue\n",
      "\n",
      "        \n",
      "        pnl_indc_row = {}\n",
      "        pnl_indc_row['trsz'] = int(words[5])\n",
      "        pnl_indc_row['pos'] = int(words[7])\n",
      "        pnl_indc_row['price'] = (float(words[11]) + float(words[13])) / 2\n",
      "        pnl_indc_row['time'] = int(words[1].split(\".\")[0])\n",
      "        sign = np.sign(pnl_indc_row['pos'])\n",
      "        pnl = float(words[9])\n",
      "\n",
      "        indc_row = {}\n",
      "        indc_sum = 0\n",
      "        for w_idx in range(20, len(words), 2):\n",
      "            indc = words[w_idx]\n",
      "            pnl_indc_row[indc] = float(words[w_idx + 1])\n",
      "            unique_indc_vec.add(indc)\n",
      "            indc_sum += abs(pnl_indc_row[indc])\n",
      "            \n",
      "        if indc_sum == 0:\n",
      "            continue\n",
      "            \n",
      "        if sign == 0 or sign * section_sign == -1:\n",
      "            \n",
      "            section_pnl_indc_dat = pd.DataFrame.from_dict(dict(enumerate(section_pnl_indc_dat, 1)), orient='index')\n",
      "            \n",
      "            if not (section_pnl_indc_dat is None or section_pnl_indc_dat.shape[0] == 0 or section_pnl_indc_dat.shape[1] == 0):\n",
      "                end_time = pnl_indc_row['time']\n",
      "                closing_prices = pnl_indc_row['price']\n",
      "                if start_time + max_timeout < end_time:\n",
      "                    number_of_sections  = (end_time - start_time)/max_timeout\n",
      "                    closing_prices = []\n",
      "                    for i in range(number_of_sections):\n",
      "                        len_section = section_pnl_indc_dat[(section_pnl_indc_dat['time']<start_time + (i+1)*max_timeout) & (section_pnl_indc_dat['time']>=start_time + (i)*max_timeout)].shape[0] \n",
      "                        for time in times:\n",
      "                            \n",
      "                            if start_time + (i+1)*max_timeout < time:\n",
      "                                for j in range((len_section)):\n",
      "                                    closing_prices.append(time_price[time])\n",
      "                                    \n",
      "                                break\n",
      "                    remaining_len = section_pnl_indc_dat[(section_pnl_indc_dat['time']>start_time + (number_of_sections)*max_timeout)].shape[0] \n",
      "                    for j in range((remaining_len)):\n",
      "                        closing_prices.append(pnl_indc_row['price'])\n",
      "                    \n",
      "                abs_sum_contr = section_pnl_indc_dat.ix[:,unique_indc_vec].abs().sum(axis=1)\n",
      "\n",
      "                price_diff = closing_prices - section_pnl_indc_dat['price']\n",
      "\n",
      "                s_pnl_indc_row = section_pnl_indc_dat.ix[:,unique_indc_vec].div(abs_sum_contr, axis=0).mul(section_pnl_indc_dat['trsz'], axis=0).mul(price_diff, axis=0).sum()\n",
      "                s_pnl_indc_row /= s_pnl_indc_row.abs().sum()\n",
      "                s_pnl_indc_row['pnl'] = pnl - section_open_pnl\n",
      "\n",
      "                pnl_indc_dat[sectionid] = s_pnl_indc_row.to_dict()\n",
      "                sectionid += 1\n",
      "\n",
      "            section_sign = sign\n",
      "            section_open_pnl = pnl\n",
      "            section_pnl_indc_dat = []\n",
      "            unique_indc_vec = set()\n",
      "            indc_set.update(unique_indc_vec)\n",
      "            start_time = int(words[1].split(\".\")[0])\n",
      "        else:\n",
      "            section_pnl_indc_dat.append(pnl_indc_row)\n",
      "            if section_sign == 0:\n",
      "                start_time = int(words[1].split(\".\")[0])\n",
      "                section_sign = sign\n",
      "    \n",
      "    pnl_indc_dat = pd.DataFrame.from_dict(pnl_indc_dat, orient='index')\n",
      "    pnl_indc_dat = pnl_indc_dat.fillna(0)\n",
      "    return pnl_indc_dat"
     ],
     "language": "python",
     "metadata": {},
     "outputs": [],
     "prompt_number": 6
    },
    {
     "cell_type": "heading",
     "level": 3,
     "metadata": {},
     "source": [
      "Run this cell to generate the log files"
     ]
    },
    {
     "cell_type": "code",
     "collapsed": false,
     "input": [
      "unique_id = str(int(subprocess.check_output([\"date\",\"+%N\"]).strip()))\n",
      "strategy = work_dir + \"strat_\" + unique_id\n",
      "ilist = work_dir + \"ilist_\" + unique_id\n",
      "get_strat_from_config(config, end_date,strategy)\n",
      "get_ilist_from_config(config, end_date,ilist)\n",
      "get_indicators_from_ilist(ilist)\n",
      "generate_sim_strategy_logs(start_date,end_date,strategy,unique_id )\n",
      "get_ind_info(start_date,end_date,strategy,unique_id)"
     ],
     "language": "python",
     "metadata": {},
     "outputs": [],
     "prompt_number": 7
    },
    {
     "cell_type": "heading",
     "level": 3,
     "metadata": {},
     "source": [
      "Run this cell to load up the data "
     ]
    },
    {
     "cell_type": "code",
     "collapsed": false,
     "input": [
      "\n",
      "pnl_indc_dat = pd.DataFrame()\n",
      "datelist = []\n",
      "date = calc_previous_day(end_date)\n",
      "while(date>=start_date):\n",
      "    d_pnl_indc_dat = get_pnl_and_contribution(work_dir, date, max_timeout)\n",
      "    \n",
      "    if d_pnl_indc_dat is None or d_pnl_indc_dat.shape[0] == 0 or d_pnl_indc_dat.shape[1] == 0:\n",
      "        date = calc_previous_day(date)\n",
      "        continue\n",
      "    \n",
      "    #print date\n",
      "    \n",
      "    indc_row = d_pnl_indc_dat.ix[:,d_pnl_indc_dat.columns != 'pnl'].mul(d_pnl_indc_dat['pnl'].abs(), axis=0).sum()\n",
      "    indc_row /= indc_row.abs().sum()\n",
      "    indc_row['pnl'] = d_pnl_indc_dat['pnl'].sum()\n",
      "    pnl_indc_dat = pnl_indc_dat.append(indc_row, ignore_index=True)\n",
      "    datelist.append(str(date))\n",
      "    \n",
      "    date = calc_previous_day(date)\n",
      "\n",
      "pnl_indc_dat.index = map(lambda date: dateparser.parse(\"-\".join([date[0:4],date[4:6],date[6:8]])), datelist)\n",
      "pnl_indc_dat.sort_index(inplace=True)\n",
      "indc_dat = pnl_indc_dat.ix[:,pnl_indc_dat.columns != 'pnl'].mul(pnl_indc_dat['pnl'].abs(), axis=0)"
     ],
     "language": "python",
     "metadata": {},
     "outputs": [],
     "prompt_number": 8
    },
    {
     "cell_type": "heading",
     "level": 3,
     "metadata": {},
     "source": [
      "Run this cell to print the indicators in the order of their contribution"
     ]
    },
    {
     "cell_type": "code",
     "collapsed": false,
     "input": [
      "#Print the indicators in decrasing order of their performance (worst indicator being printed last)\n",
      "dct  = get_indicators_from_ilist(ilist)\n",
      "for i in (indc_dat.cumsum().ix[-1,:].dropna(axis=0, how='any').sort_values(ascending=False).index.tolist()):\n",
      "    print int(i),dct[(int(i)+1)]"
     ],
     "language": "python",
     "metadata": {},
     "outputs": [],
     "prompt_number": 9
    },
    {
     "cell_type": "heading",
     "level": 3,
     "metadata": {},
     "source": [
      "Run this cell to plot the graph of Pnl and indicator contributions in PnL"
     ]
    },
    {
     "cell_type": "code",
     "collapsed": false,
     "input": [
      "# Substitute if plotly doesnt work.\n",
      "fig, ax  = plt.subplots(figsize=(20, 10))\n",
      "y = pnl_indc_dat['pnl'].cumsum()\n",
      "ax.plot(y,label='Overall PNL',linestyle='--')\n",
      "for i in indc_dat.columns.tolist():\n",
      "    ax.plot(indc_dat[i].cumsum(),label=i)\n",
      "ax.plot(y*0,label = \"Zero Line\")\n",
      "legend = ax.legend(loc='lower left')\n",
      "plt.show()"
     ],
     "language": "python",
     "metadata": {},
     "outputs": [],
     "prompt_number": 10
    },
    {
     "cell_type": "heading",
     "level": 3,
     "metadata": {},
     "source": [
      "Run this cell to get the relative weights of the indicators in the model and model stdev"
     ]
    },
    {
     "cell_type": "code",
     "collapsed": false,
     "input": [
      "#Check the relative weights of indicators in the model\n",
      "\n",
      "rel_weight_script = [\"/home/dvctrader/basetrade/ModelScripts/get_relative_ind_weights_from_model.py\",\"-c \",config,\"-sd\",str(start_date),\"-ed\",str(end_date)]\n",
      "rel_weight_script =(' '.join(rel_weight_script))\n",
      "print rel_weight_script\n",
      "process = subprocess.Popen(rel_weight_script, shell=True, stdout=subprocess.PIPE, stderr=subprocess.PIPE)\n",
      "weights,err = process.communicate()\n",
      "print weights\n"
     ],
     "language": "python",
     "metadata": {},
     "outputs": [],
     "prompt_number": null
    },
    {
     "cell_type": "code",
     "collapsed": false,
     "input": [
      "print dct.items()"
     ],
     "language": "python",
     "metadata": {},
     "outputs": [],
     "prompt_number": null
    },
    {
     "cell_type": "code",
     "collapsed": true,
     "input": [],
     "language": "python",
     "metadata": {},
     "outputs": [],
     "prompt_number": null
    }
   ],
   "metadata": {}
  }
 ]
}