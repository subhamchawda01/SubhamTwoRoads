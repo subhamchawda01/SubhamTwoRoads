{
 "metadata": {
  "anaconda-cloud": {},
  "kernelspec": {
   "display_name": "Python 2",
   "language": "python",
   "name": "python2"
  },
  "language_info": {
   "codemirror_mode": {
    "name": "ipython",
    "version": 2
   },
   "file_extension": ".py",
   "mimetype": "text/x-python",
   "name": "python",
   "nbconvert_exporter": "python",
   "pygments_lexer": "ipython2",
   "version": "2.7.12"
  },
  "name": ""
 },
 "nbformat": 3,
 "nbformat_minor": 0,
 "worksheets": [
  {
   "cells": [
    {
     "cell_type": "code",
     "collapsed": true,
     "input": [
      "import os\n",
      "import sys\n",
      "import pandas as pd\n",
      "import numpy as np\n",
      "from datetime import datetime\n",
      "import matplotlib.pyplot as plt\n",
      "import shutil\n",
      "import subprocess\n",
      "sys.path.append(os.path.expanduser('~/basetrade/')) \n",
      "from walkforward.definitions import execs\n",
      "from walkforward.utils import date_utils\n",
      "from walkforward.utils.run_exec import exec_function\n",
      "from collections import Counter"
     ],
     "language": "python",
     "metadata": {},
     "outputs": [],
     "prompt_number": 27
    },
    {
     "cell_type": "code",
     "collapsed": true,
     "input": [
      "def load_config_date_pnl_map(shc , p_start_time , p_end_time , start_date , end_date, config_date_pnl):\n",
      "\n",
      "    #Get the PnL data for the pool using summarize_strategy\n",
      "    summarize_pnl_dir = execs.execs().modelling + \"/wf_strats/\" + shc + \"/\" + p_start_time + \"-\" + p_end_time + \"/\"\n",
      "    summarize_pnl_pool = p_start_time + \"-\" + p_end_time\n",
      "    summarize_pnl_command = [execs.execs().summarize_strategy , shc ,summarize_pnl_pool , \"DB\" , str(start_date) , end_date , \"IF\" , \"kCNAPnlSharpe\" , \"0\" , \"IF\" , \"0\"]\n",
      "    summarize_pnl_command = \" \".join(summarize_pnl_command)\n",
      "    #print summarize_pnl_command\n",
      "    PnL_data = exec_function(summarize_pnl_command)[0].strip()\n",
      "\n",
      "    #fill the map of config_date_pnl from output of summarize strategy results\n",
      "    PnL_data = PnL_data.split(\"\\n\")\n",
      "    for line in PnL_data:\n",
      "        if line == \"\" : continue\n",
      "        words = line.split(\" \")\n",
      "        if words[0] == \"STRATEGYFILEBASE\":\n",
      "            config = words[1]\n",
      "            config_date_pnl[config] = {}\n",
      "            continue\n",
      "        if words[0] == \"STATISTICS\":\n",
      "            continue\n",
      "        date_ = int(words[0])\n",
      "        config_date_pnl[config][date_] = words[1]"
     ],
     "language": "python",
     "metadata": {},
     "outputs": [],
     "prompt_number": 2
    },
    {
     "cell_type": "code",
     "collapsed": false,
     "input": [
      "shc = 'USD000000TOD'\n",
      "p_start_time = 'MSK_1010'\n",
      "p_end_time =  'MSK_1400'\n",
      "start_date = \"20160701\"\n",
      "end_date = \"20170704\"\n",
      "number_of_strats = 30"
     ],
     "language": "python",
     "metadata": {},
     "outputs": [],
     "prompt_number": 37
    },
    {
     "cell_type": "code",
     "collapsed": false,
     "input": [
      "config_date_pnl = {}\n",
      "load_config_date_pnl_map(shc , p_start_time , p_end_time , start_date , end_date, config_date_pnl)"
     ],
     "language": "python",
     "metadata": {},
     "outputs": [],
     "prompt_number": 38
    },
    {
     "cell_type": "code",
     "collapsed": false,
     "input": [
      "df = pd.DataFrame.from_dict(config_date_pnl)\n",
      "config_to_negative_date = {}\n",
      "for config in df.columns:\n",
      "    config_to_negative_date[config] = [int(x) for x in df[df[config].apply(float)<0].index.tolist()]\n",
      "dates = []\n",
      "f = open(\"/home/dvctrader/nikhil/negative_dates_tom_us\",\"w\")\n",
      "for config in config_to_negative_date:\n",
      "    #print config\n",
      "    for date in config_to_negative_date[config]:\n",
      "        #print str(date)\n",
      "        f.write(str(date)+\"\\n\")\n",
      "        dates.append(date)\n",
      "f.close()"
     ],
     "language": "python",
     "metadata": {},
     "outputs": [],
     "prompt_number": 39
    },
    {
     "cell_type": "code",
     "collapsed": false,
     "input": [
      "dct =  Counter(dates)\n",
      "for key,value in dct.items():\n",
      "    print key,value, int(round(float(value)/number_of_strats*100,1) )"
     ],
     "language": "python",
     "metadata": {},
     "outputs": [],
     "prompt_number": 40
    },
    {
     "cell_type": "code",
     "collapsed": false,
     "input": [
      "process = subprocess.Popen(\"cat /home/dvctrader/nikhil/negative_dates_tom_us | sort | uniq -c | sort\", shell=True, stdout=subprocess.PIPE, stderr=subprocess.PIPE)\n",
      "weights,err = process.communicate()\n",
      "print weights"
     ],
     "language": "python",
     "metadata": {},
     "outputs": [],
     "prompt_number": null
    },
    {
     "cell_type": "code",
     "collapsed": true,
     "input": [],
     "language": "python",
     "metadata": {},
     "outputs": [],
     "prompt_number": null
    }
   ],
   "metadata": {}
  }
 ]
}