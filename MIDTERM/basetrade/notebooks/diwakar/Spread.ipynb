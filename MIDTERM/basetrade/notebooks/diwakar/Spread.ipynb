{
 "metadata": {
  "kernelspec": {
   "display_name": "Python 3",
   "language": "python",
   "name": "python3"
  },
  "language_info": {
   "codemirror_mode": {
    "name": "ipython",
    "version": 3
   },
   "file_extension": ".py",
   "mimetype": "text/x-python",
   "name": "python",
   "nbconvert_exporter": "python",
   "pygments_lexer": "ipython3",
   "version": "3.5.2"
  },
  "name": ""
 },
 "nbformat": 3,
 "nbformat_minor": 0,
 "worksheets": [
  {
   "cells": [
    {
     "cell_type": "code",
     "collapsed": false,
     "input": [
      "import os\n",
      "import sys\n",
      "import copy\n",
      "\n",
      "import argparse\n",
      "\n",
      "from datetime import datetime\n",
      "from pandas.tseries.offsets import BDay\n",
      "\n",
      "from pandas.plotting import autocorrelation_plot\n",
      "\n",
      "import pandas as pd\n",
      "import numpy as np\n",
      "import seaborn as sns\n",
      "\n",
      "from statsmodels.tsa.arima_model import ARIMA\n",
      "import statsmodels.tsa.stattools as ts\n",
      "import statsmodels.api as sm\n",
      "\n",
      "import matplotlib.patches as mpatches\n",
      "import matplotlib.pyplot as plt\n",
      "%matplotlib inline\n",
      "\n"
     ],
     "language": "python",
     "metadata": {},
     "outputs": [],
     "prompt_number": 11
    },
    {
     "cell_type": "code",
     "collapsed": false,
     "input": [
      "filepath  = '/home/diwakar/notebooks/data/ilist_LFL_4_spread_from_template_data_2017_all_filtered'\n",
      "ilist = '/home/diwakar/notebooks/data/ilist_LFL_4_spread_from_template'\n",
      "df = pd.read_csv(filepath, sep=' ')"
     ],
     "language": "python",
     "metadata": {},
     "outputs": [],
     "prompt_number": 23
    },
    {
     "cell_type": "code",
     "collapsed": false,
     "input": [
      "ilist_content = open(ilist).readlines()\n",
      "\n",
      "ilist_content = [line for line in ilist_content if 'INDICATOR 1.00' in line]\n",
      "ilist_content = ['~'.join(line.split()[3:5]) for line in ilist_content]\n",
      "columns = ['RETURN'] + ilist_content\n",
      "print(ilist_content)\n",
      "df.columns = columns\n",
      "new_df = df.drop(df.columns[0], axis=1)"
     ],
     "language": "python",
     "metadata": {},
     "outputs": [],
     "prompt_number": 48
    },
    {
     "cell_type": "code",
     "collapsed": false,
     "input": [
      "# compute changes to each of them\n",
      "# the sampling was per second, so just number of rows should be good approximation for duration\n",
      "change_df = df.diff(3600)\n",
      "change_df = change_df.dropna()\n",
      "x = df.iloc[:-3600]\n",
      "\n",
      "print(x.shape)\n",
      "print(change_df.shape)"
     ],
     "language": "python",
     "metadata": {},
     "outputs": [],
     "prompt_number": 49
    },
    {
     "cell_type": "code",
     "collapsed": false,
     "input": [
      "# print(new_df.corr())\n",
      "#sns.heatmap(new_df.corr())\n",
      "\n",
      "# print(change_df.describe())\n",
      "sns.heatmap(change_df)"
     ],
     "language": "python",
     "metadata": {},
     "outputs": [],
     "prompt_number": 50
    },
    {
     "cell_type": "code",
     "collapsed": false,
     "input": [
      "for col1 in df.columns:\n",
      "    val = np.reshape(change_df[col1], [change_df[col1].shape[0], 1])\n",
      "    print(col1,val.shape, x.shape)\n",
      "    print (np.corrcoef(np.transpose(val), np.transpose(x[x.columns])))"
     ],
     "language": "python",
     "metadata": {},
     "outputs": [],
     "prompt_number": 59
    },
    {
     "cell_type": "code",
     "collapsed": false,
     "input": [],
     "language": "python",
     "metadata": {},
     "outputs": [],
     "prompt_number": null
    }
   ],
   "metadata": {}
  }
 ]
}