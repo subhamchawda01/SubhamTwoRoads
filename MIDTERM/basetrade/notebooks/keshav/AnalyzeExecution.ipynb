{
 "metadata": {
  "anaconda-cloud": {},
  "kernelspec": {
   "display_name": "Python 2",
   "language": "python",
   "name": "python2"
  },
  "language_info": {
   "codemirror_mode": {
    "name": "ipython",
    "version": 2
   },
   "file_extension": ".py",
   "mimetype": "text/x-python",
   "name": "python",
   "nbconvert_exporter": "python",
   "pygments_lexer": "ipython2",
   "version": "2.7.12"
  },
  "name": ""
 },
 "nbformat": 3,
 "nbformat_minor": 0,
 "worksheets": [
  {
   "cells": [
    {
     "cell_type": "code",
     "collapsed": false,
     "input": [
      "# Put all libraries to import here \n",
      "\n",
      "import pandas as pd\n",
      "import numpy as np\n",
      "\n",
      "import os\n",
      "import subprocess\n",
      "\n",
      "import matplotlib.pyplot as plt\n",
      "%matplotlib inline\n",
      "\n",
      "\n",
      "print __version__ # requires version >= 1.9.0\n"
     ],
     "language": "python",
     "metadata": {},
     "outputs": [],
     "prompt_number": 7
    },
    {
     "cell_type": "code",
     "collapsed": false,
     "input": [
      "#Put all your variables here \n",
      "\n",
      "process_id_ = \"1234\"\n",
      "user_ = \"kdalmia\"\n",
      "strat_file_ = \"/home/dvctrader/modelling/strats/XT_0/EST_1805-AST_1600/w_o_hv_400_20160623_F0_15768_w_pbt_ilist_XT_0_AS_Sin_Sin_aa1_keshav_self_256_na_e5_20150921_20151130_AST_845_AST_1615_4000_c1_0_16714638_0_fv_FSRMSH.7.0.025.0.0.0.95.15.N.tt_EST_1805_AST_1600.p1\"\n",
      "shortcode_=\"XT_0\"\n",
      "date_ = \"20160730\"\n",
      "num_days_=\"150\"\n",
      "\n"
     ],
     "language": "python",
     "metadata": {},
     "outputs": [],
     "prompt_number": 27
    },
    {
     "cell_type": "code",
     "collapsed": false,
     "input": [
      "# Run sim strategy here \n",
      "\n",
      "get_dates_cmd_=[\"/home/dvctrader/basetrade/scripts/get_list_of_dates_for_shortcode.pl\",shortcode_,date_,num_days_]\n",
      "date_list_=subprocess.check_output(get_dates_cmd_)\n",
      "\n",
      "x = date_list_.split()\n",
      "y=[]\n",
      "for i in x:\n",
      "    y.extend( FindFill(i) )\n",
      "os.system(\"rm /spare/local/logs/tradelogs/trades*1234\")\n",
      "os.system(\"rm /spare/local/logs/tradelogs/log*1234\")"
     ],
     "language": "python",
     "metadata": {},
     "outputs": [],
     "prompt_number": 28
    },
    {
     "cell_type": "code",
     "collapsed": false,
     "input": [
      "#Print Statistics\n",
      "z=np.array(y)\n",
      "z=z/0.005\n",
      "x=z[np.where(z<1)]\n",
      "#print(type(z))\n",
      "#z = z[np.logical_not(np.isnan(z))]\n",
      "print(np.percentile(x,100))\n",
      "print(np.mean(x))"
     ],
     "language": "python",
     "metadata": {},
     "outputs": [],
     "prompt_number": 57
    },
    {
     "cell_type": "code",
     "collapsed": false,
     "input": [
      "hist, bins = np.histogram(x,bins=10)\n",
      "center = (bins[:-1] + bins[1:])/2\n",
      "width=0.7*(bins[1]-bins[0])\n",
      "\n",
      "plt.bar(center, hist, align='center', width=width)"
     ],
     "language": "python",
     "metadata": {},
     "outputs": [],
     "prompt_number": 58
    },
    {
     "cell_type": "code",
     "collapsed": false,
     "input": [
      "### Read Trades and Datagens\n",
      "def FindFill(date_):\n",
      "    trade_file_ = \"/spare/local/logs/tradelogs/trades.\"+date_+\".\"+process_id_\n",
      "    sim_cmd_args_ = [\"/home/dvctrader/basetrade_install/bin/sim_strategy\",\"SIM\",strat_file_,process_id_,date_]\n",
      "    out_sim_ = subprocess.check_output(sim_cmd_args_)\n",
      "    args = [\"awk\", r'{print $6,$11,$12,$14,$15}', trade_file_]\n",
      "    proc = subprocess.Popen(args, stdin = subprocess.PIPE, stdout = subprocess.PIPE, stderr = subprocess.PIPE)\n",
      "    out = proc.stdout\n",
      "\n",
      "    trades=pd.read_table(out,sep=\" \",header=None,engine='python')\n",
      "    trades.columns=['TradePrice','BidSize','Bid','Ask','AskSize']\n",
      "    trades=trades[0:-5]  # Removing end of sim trade file (Comment this if live trade file)\n",
      "    trades['fill_quality']=abs((trades.BidSize*trades.Ask+trades.AskSize*trades.Bid)/(trades.BidSize+trades.AskSize)-trades.TradePrice)\n",
      "    #x = np.mean(trades.fill_quality)\n",
      "    #return x\n",
      "    return trades.fill_quality\n",
      "\n"
     ],
     "language": "python",
     "metadata": {},
     "outputs": [],
     "prompt_number": 12
    }
   ],
   "metadata": {}
  }
 ]
}