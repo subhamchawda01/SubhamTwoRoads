{
 "metadata": {
  "anaconda-cloud": {},
  "kernelspec": {
   "display_name": "Python 2",
   "language": "python",
   "name": "python2"
  },
  "language_info": {
   "codemirror_mode": {
    "name": "ipython",
    "version": 2
   },
   "file_extension": ".py",
   "mimetype": "text/x-python",
   "name": "python",
   "nbconvert_exporter": "python",
   "pygments_lexer": "ipython2",
   "version": "2.7.12"
  },
  "name": ""
 },
 "nbformat": 3,
 "nbformat_minor": 0,
 "worksheets": [
  {
   "cells": [
    {
     "cell_type": "code",
     "collapsed": true,
     "input": [
      "import subprocess\n",
      "import pandas as pd\n",
      "import numpy as np\n",
      "import matplotlib.pyplot as plt\n",
      "import sys\n",
      "import os\n",
      "import io"
     ],
     "language": "python",
     "metadata": {},
     "outputs": [],
     "prompt_number": 1
    },
    {
     "cell_type": "code",
     "collapsed": true,
     "input": [
      "sys.path.append(os.path.expanduser('~/basetrade/')) # relying on PYTHONPATH\n",
      "\n",
      "from walkforward.utils import date_utils\n",
      "from walkforward.definitions import execs"
     ],
     "language": "python",
     "metadata": {},
     "outputs": [],
     "prompt_number": 2
    },
    {
     "cell_type": "code",
     "collapsed": false,
     "input": [
      "start_date = \"20160101\"\n",
      "end_date = \"20170530\"\n",
      "numdays = '400'\n",
      "config_xt = \"/media/shared/ephemeral16/keshav/config\"\n",
      "config_xt1 = \"/media/shared/ephemeral16/keshav/config_1\"\n",
      "config_fgbm = \"/media/shared/ephemeral16/keshav/fgbm_config\"\n",
      "config_fbts = \"/media/shared/ephemeral16/keshav/fbts_config\"\n",
      "skip_dates = \"/media/shared/ephemeral16/keshav/XT_0/AS/skip_days\"\n",
      "oml_script = \"/home/dvctrader/basetrade/ModelScripts/find_optimal_stdev_max_loss.pl\"\n",
      "samples_script = \"/home/dvctrader/basetrade/scripts/get_avg_samples.pl\"\n",
      "oml_tperiod = 'EU'\n",
      "oml_numdays = '250'\n",
      "oml_highvol_perc = '0.2'\n"
     ],
     "language": "python",
     "metadata": {},
     "outputs": [],
     "prompt_number": 3
    },
    {
     "cell_type": "code",
     "collapsed": false,
     "input": [
      "def get_oml (v0, v1, l0, l1, v_e):\n",
      "    if v_e <= v0:\n",
      "        return l0\n",
      "    else:\n",
      "        return min(l1, (l0 + (v_e - v0) * (l1 - l0) / (v1 - v0)))"
     ],
     "language": "python",
     "metadata": {},
     "outputs": [],
     "prompt_number": 4
    },
    {
     "cell_type": "code",
     "collapsed": true,
     "input": [
      "def get_low_high_volatilities (stdevs, losses):\n",
      "    high_vol_perc = 0.8\n",
      "    high_vol_split = stdevs.quantile(0.8)\n",
      "    high_vol_idx = stdevs > high_vol_split\n",
      "    v0 = np.mean(stdevs[~high_vol_idx])\n",
      "    v1 = np.mean(stdevs[high_vol_idx])\n",
      "    l0 = np.percentile(losses[~high_vol_idx], 96)\n",
      "    l1 = np.percentile(losses[high_vol_idx], 96)\n",
      "    if l1 < l0:\n",
      "        l1 = l0\n",
      "    return [v0, v1, l0, l1]\n",
      "    "
     ],
     "language": "python",
     "metadata": {},
     "outputs": [],
     "prompt_number": 5
    },
    {
     "cell_type": "code",
     "collapsed": false,
     "input": [
      "def get_low_high_volatilities_stdev_oml (shc, configlist):\n",
      "    # read the config-name\n",
      "    with open(configlist, 'r') as f:\n",
      "        config = f.readline().rstrip()\n",
      "        \n",
      "    # get the low and high volatililties and omls for them\n",
      "    oml_command = [oml_script, shc, oml_tperiod, oml_numdays, '0.05', oml_highvol_perc, config, end_date, '0', \n",
      "                   skip_dates, \"| grep 'V_0\\|L_0'\"]\n",
      "    oml_command = (' '.join(oml_command))\n",
      "    process = subprocess.Popen(oml_command, shell=True, stdout=subprocess.PIPE, stderr=subprocess.PIPE)\n",
      "    out, err = process.communicate()\n",
      "    outl = out.splitlines()\n",
      "    \n",
      "    # V_0: low_volatility, V_1: high_volatility\n",
      "    # L_0: oml for V_0 days, L_1: oml for V_1 days\n",
      "    v0, v1 = [float(i) for i in outl[0].split()[1:4:2]]\n",
      "    l0, l1 = [float(i) for i in outl[1].split()[1:4:2]]\n",
      "    if l1 < l0:\n",
      "        l1 = l0\n",
      "    return [v0, v1, l0, l1]"
     ],
     "language": "python",
     "metadata": {},
     "outputs": [],
     "prompt_number": 6
    },
    {
     "cell_type": "code",
     "collapsed": false,
     "input": [
      "def get_risk_based_uts_stats(shc, configlist,flag):\n",
      "    \n",
      "    # get the pnls for the config\n",
      "    pnls_file = \"/home/dvctrader/hrishav/risk_based_uts/\" + os.path.basename(configlist) + \"_\" + shc\n",
      "    summarize_pnl_command = [execs.execs().summarize_strategy, shc, configlist, \"DB\", start_date, end_date, skip_dates, \n",
      "                             \"kCNAPnlSharpe 0 IF 0\", \"| grep -v ST\", \"| awk '{print $1\\\" \\\"$2\\\" \\\"$10}' >\", pnls_file] \n",
      "    summarize_pnl_command = (' '.join(summarize_pnl_command))\n",
      "    print summarize_pnl_command                     \n",
      "    process = subprocess.Popen(summarize_pnl_command, shell=True, stdout=subprocess.PIPE, stderr=subprocess.PIPE)\n",
      "    \n",
      "    # get_stdevs\n",
      "    sd_cmd = [samples_script, shc, end_date, numdays, '0000 2400 1 STDEV']\n",
      "    sd_cmd = ' '.join(sd_cmd)\n",
      "    print sd_cmd\n",
      "    process = subprocess.Popen(sd_cmd, shell=True, stdout=subprocess.PIPE, stderr=subprocess.PIPE)\n",
      "    out, err = process.communicate()\n",
      "    \n",
      "    days_stdevs = dict((int(ll.split()[0]),float(ll.split()[1])) for ll in out.splitlines()[1:])\n",
      "    sd_dates_list = list(days_stdevs.keys())\n",
      "    sd_dates_list.sort()\n",
      "    \n",
      "    pred_stdevs = {}\n",
      "    for i in range(1, len(sd_dates_list)):\n",
      "        pred_stdevs[sd_dates_list[i]] = days_stdevs[sd_dates_list[i-1]]\n",
      "    sd_dates_list = list(pred_stdevs.keys())\n",
      "    sd_dates_list.sort()\n",
      "    \n",
      "    # build data\n",
      "    dta = pd.read_csv(pnls_file,header = None, sep =' ')\n",
      "    dta.columns = ['date','PNL','minPNL']\n",
      "    \n",
      "    dta = dta[dta['date'].isin(list(sd_dates_list))]\n",
      "    dta['STDEV'] = dta['date'].map(days_stdevs)\n",
      "    \n",
      "    if (flag==0):\n",
      "        [V_0, V_1, L_0, L_1] = get_low_high_volatilities(dta['STDEV'], (dta['minPNL'] * -1))\n",
      "        print [V_0, V_1, L_0, L_1]\n",
      "        \n",
      "        days_oml = dict((dt, get_oml(V_0, V_1, L_0, L_1, pred_stdevs[dt])) for dt in dta['date'].tolist())\n",
      "        dta['OML'] = dta['date'].map(days_oml)\n",
      "    elif (flag==1):\n",
      "        L_0 = np.percentile((dta['minPNL'] * -1), 96)\n",
      "        dta['OML'] = L_0\n",
      "    else :\n",
      "        L_0 = np.percentile((dta['minPNL'] * -1), 96)\n",
      "        dta['OML']=abs((dta['minPNL'].rolling(30)).min())\n",
      "        dta['OML'].iloc[:30]=L_0\n",
      "    \n",
      "    print dta['minPNL'].tail()\n",
      "    dta['trunc_PNL'] = dta['PNL']\n",
      "    maxloss_hits = (-1 * dta['OML']) >= dta['minPNL']\n",
      "    dta.ix[maxloss_hits, 'trunc_PNL'] = -1 * dta.ix[maxloss_hits, 'OML']\n",
      "    \n",
      "    print \"No of hits: \" + str(np.sum(maxloss_hits))\n",
      "    \n",
      "    # No Scaling\n",
      "    print \"No Scaling..\"\n",
      "    print \"Mean: \" + str(np.mean(dta['trunc_PNL']))\n",
      "    print \"Sharpe: \" + str(np.mean(dta['trunc_PNL']) / np.std(dta['trunc_PNL']))\n",
      "    \n",
      "    # With Scaling\n",
      "    dta['scale'] = L_0 / dta['OML']\n",
      "    \n",
      "    dta['trunc_PNL_scaled'] = dta['scale'] * dta['trunc_PNL']\n",
      "    dta['minPNL_scaled'] = dta['minPNL'] * dta['trunc_PNL']\n",
      "    \n",
      "    print \"Scaling..\"\n",
      "    print L_0\n",
      "    print \"Mean: \" + str(np.mean(dta['trunc_PNL_scaled']))\n",
      "    print \"Sharpe: \" + str(np.mean(dta['trunc_PNL_scaled']) / np.std(dta['trunc_PNL_scaled']))\n",
      "    \n",
      "\n",
      "    \n",
      "    plt.subplot(211)\n",
      "    #plt.plot(dta['scale'])\n",
      "    plt.plot(dta['OML'])\n",
      "    plt.subplot(212)\n",
      "    plt.plot(dta['minPNL'])\n",
      "    #plt.subplot(213)\n",
      "    #plt.plot(scaling_factor)\n",
      "    plt.show()\n",
      "    return dta"
     ],
     "language": "python",
     "metadata": {},
     "outputs": [],
     "prompt_number": 59
    },
    {
     "cell_type": "code",
     "collapsed": false,
     "input": [
      "#dta = get_risk_based_uts_stats(\"XT_0\", config_xt, 0)\n",
      "#dta = get_risk_based_uts_stats(\"XT_0\", config_xt, 1)\n",
      "dta = get_risk_based_uts_stats(\"XT_0\", config_xt, 2)"
     ],
     "language": "python",
     "metadata": {},
     "outputs": [],
     "prompt_number": 60
    },
    {
     "cell_type": "code",
     "collapsed": false,
     "input": [
      "dta['OML'].iloc[:30]=0\n",
      "print dta['OML']"
     ],
     "language": "python",
     "metadata": {},
     "outputs": [],
     "prompt_number": 44
    },
    {
     "cell_type": "code",
     "collapsed": false,
     "input": [
      "dta = get_risk_based_uts_stats(\"XT_0\", config_xt, True)\n",
      "print \"\\n\\n\"\n",
      "dta = get_risk_based_uts_stats(\"XT_0\", config_xt, False)"
     ],
     "language": "python",
     "metadata": {},
     "outputs": [],
     "prompt_number": 147
    },
    {
     "cell_type": "code",
     "collapsed": false,
     "input": [
      "dta = get_risk_based_uts_stats(\"XT_0\", config_xt1, True)\n",
      "print \"\\n\\n\"\n",
      "dta = get_risk_based_uts_stats(\"XT_0\", config_xt1, False)"
     ],
     "language": "python",
     "metadata": {},
     "outputs": [],
     "prompt_number": 148
    },
    {
     "cell_type": "code",
     "collapsed": false,
     "input": [
      "dta = get_risk_based_uts_stats(\"FBTS_0\", config_fbts, True)\n",
      "print \"\\n\\n\"\n",
      "dta = get_risk_based_uts_stats(\"FBTS_0\", config_fbts, False)"
     ],
     "language": "python",
     "metadata": {},
     "outputs": [],
     "prompt_number": 149
    },
    {
     "cell_type": "code",
     "collapsed": false,
     "input": [
      "dta = get_risk_based_uts_stats(\"FGBM_0\", config_fgbm, True)\n",
      "print \"\\n\\n\"\n",
      "dta = get_risk_based_uts_stats(\"FGBM_0\", config_fgbm, False)"
     ],
     "language": "python",
     "metadata": {},
     "outputs": [],
     "prompt_number": 150
    },
    {
     "cell_type": "code",
     "collapsed": true,
     "input": [],
     "language": "python",
     "metadata": {},
     "outputs": [],
     "prompt_number": null
    }
   ],
   "metadata": {}
  }
 ]
}