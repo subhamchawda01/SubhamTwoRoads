{
 "metadata": {
  "anaconda-cloud": {},
  "kernelspec": {
   "display_name": "Python 2",
   "language": "python",
   "name": "python2"
  },
  "language_info": {
   "codemirror_mode": {
    "name": "ipython",
    "version": 2
   },
   "file_extension": ".py",
   "mimetype": "text/x-python",
   "name": "python",
   "nbconvert_exporter": "python",
   "pygments_lexer": "ipython2",
   "version": "2.7.12"
  },
  "name": ""
 },
 "nbformat": 3,
 "nbformat_minor": 0,
 "worksheets": [
  {
   "cells": [
    {
     "cell_type": "code",
     "collapsed": true,
     "input": [
      "import subprocess\n",
      "import pandas as pd\n",
      "import numpy as np\n",
      "import matplotlib.pyplot as plt\n",
      "import sys\n",
      "import os\n",
      "import io\n"
     ],
     "language": "python",
     "metadata": {},
     "outputs": [],
     "prompt_number": 25
    },
    {
     "cell_type": "code",
     "collapsed": true,
     "input": [
      "sys.path.append(os.path.expanduser('~/basetrade/')) # relying on PYTHONPATH\n",
      "\n",
      "from walkforward.utils import date_utils\n",
      "from walkforward.definitions import execs"
     ],
     "language": "python",
     "metadata": {},
     "outputs": [],
     "prompt_number": 26
    },
    {
     "cell_type": "code",
     "collapsed": true,
     "input": [
      "shc = \"AP_0\"\n",
      "start_date = \"20170630\"\n",
      "num_days = \"300\"\n",
      "start_time = \"JST_905\"\n",
      "end_time = \"AST_1615\"\n",
      "model_file = \"/home/dvctrader/modelling/models/AP_0/JST_905-AST_1615/w_model_ilist_AP_0_AS_Mkt_Mkt_aa1_offline_keshav_300_na_e5_20151029_20160302_JST_905_AST_1615_4000_0_0_88077128_0_flogit_SIGLR_20_N_N_34319\"\n",
      "work_dir = \"/media/shared/ephemeral16/keshav/\"\n",
      "min_price_increment =1"
     ],
     "language": "python",
     "metadata": {},
     "outputs": [],
     "prompt_number": 41
    },
    {
     "cell_type": "code",
     "collapsed": true,
     "input": [
      "def is_non_zero_file(fpath):  \n",
      "    return os.path.isfile(fpath) and os.path.getsize(fpath) > 0"
     ],
     "language": "python",
     "metadata": {},
     "outputs": [],
     "prompt_number": 28
    },
    {
     "cell_type": "code",
     "collapsed": false,
     "input": [
      "def GetListOfDates():\n",
      "    date_command = [\"/home/dvctrader/basetrade/scripts/get_list_of_dates_for_shortcode.pl\",shc,start_date,num_days]\n",
      "    date_command=(' '.join(date_command))\n",
      "    print date_command\n",
      "    process = subprocess.Popen(date_command, shell=True, stdout=subprocess.PIPE, stderr=subprocess.PIPE)\n",
      "    date_list,err =process.communicate()\n",
      "    date_list = date_list.split()\n",
      "    return date_list\n",
      "\n"
     ],
     "language": "python",
     "metadata": {},
     "outputs": [],
     "prompt_number": 29
    },
    {
     "cell_type": "code",
     "collapsed": false,
     "input": [
      "data_file = (''.join([work_dir,\"gdout\"]))\n",
      "out_file = (''.join([work_dir,\"dout\"]))\n",
      "dout = (''.join([\"PBAT_BIAS\",\"@\",out_file]))\n",
      "sumvars_sd = []\n",
      "l1bias_sd=[]\n",
      "target_sd=[]\n",
      "corr_sumvars_l1bias=[]\n",
      "rid =\"9881\"\n",
      "date_list = GetListOfDates()\n",
      "for date in date_list:\n",
      "    dgen_cmd = (' '.join([\"/home/dvctrader/cvquant_install/basetrade/bin/datagen\",model_file,date,start_time,end_time,rid,dout,\"1000\",\"0\",\"0\",\"0\"]))\n",
      "    #print dgen_cmd\n",
      "    process = subprocess.Popen(dgen_cmd, shell=True, stdout=subprocess.PIPE, stderr=subprocess.PIPE)\n",
      "    out,err=process.communicate()\n",
      "    if is_non_zero_file(out_file):\n",
      "        data = pd.read_csv(out_file,header = None, sep =' ')\n",
      "        #print data.head()\n",
      "        os.system(\"rm \"+out_file)\n",
      "        sumvars_sd.append(np.std(data[5]))\n",
      "        l1bias_sd.append(np.std(data[2]-(data[3]+data[4])/2))\n",
      "        target_sd.append(np.std(data[5]+ data[2]-(data[3]+data[4])/2))\n",
      "        corr_sumvars_l1bias.append(np.corrcoef(data[5],(data[2]-(data[3]+data[4])/2))[0,1])\n",
      "\n",
      "#print sumvars_sd\n",
      "#print l1bias_sd\n",
      "#print target_sd\n",
      "#print corr_sumvars_l1bias\n",
      "\n",
      "\n"
     ],
     "language": "python",
     "metadata": {},
     "outputs": [],
     "prompt_number": 42
    },
    {
     "cell_type": "code",
     "collapsed": false,
     "input": [
      "\n",
      "df = pd.DataFrame([])\n",
      "df['sumvar_stdev'] = sumvars_sd\n",
      "df['l1bias_stdev'] = l1bias_sd\n",
      "df['target_stdev'] = target_sd\n",
      "df['sumvar_l1bias_corr'] = corr_sumvars_l1bias\n",
      "df['sumvar_stdev']=df['sumvar_stdev']/min_price_increment\n",
      "df['l1bias_stdev']=df['l1bias_stdev']/min_price_increment\n",
      "df['target_stdev']=df['target_stdev']/min_price_increment\n",
      "\n",
      "#Filtering one day which has weird values\n",
      "df = df[df['sumvar_stdev'] < max(df['sumvar_stdev'])]\n",
      "\n",
      "\n",
      "print df['sumvar_stdev'].describe()\n",
      "print df['l1bias_stdev'].describe()\n",
      "print df['target_stdev'].describe()\n",
      "print df['sumvar_l1bias_corr'].describe()\n",
      "\n",
      "plt.subplot(211)\n",
      "plt.plot(df['sumvar_stdev'])\n",
      "plt.subplot(212)\n",
      "plt.plot(df['l1bias_stdev'])\n",
      "plt.show()"
     ],
     "language": "python",
     "metadata": {},
     "outputs": [],
     "prompt_number": 43
    },
    {
     "cell_type": "code",
     "collapsed": false,
     "input": [
      "print np.mean(((df.iloc[1:176,0])))"
     ],
     "language": "python",
     "metadata": {},
     "outputs": [],
     "prompt_number": 45
    },
    {
     "cell_type": "code",
     "collapsed": true,
     "input": [],
     "language": "python",
     "metadata": {},
     "outputs": [],
     "prompt_number": null
    }
   ],
   "metadata": {}
  }
 ]
}