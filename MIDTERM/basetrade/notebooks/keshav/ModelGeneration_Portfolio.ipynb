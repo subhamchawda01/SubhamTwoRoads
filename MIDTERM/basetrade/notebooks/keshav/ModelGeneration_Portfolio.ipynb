{
 "metadata": {
  "anaconda-cloud": {},
  "kernelspec": {
   "display_name": "Python 2",
   "language": "python",
   "name": "python2"
  },
  "language_info": {
   "codemirror_mode": {
    "name": "ipython",
    "version": 2
   },
   "file_extension": ".py",
   "mimetype": "text/x-python",
   "name": "python",
   "nbconvert_exporter": "python",
   "pygments_lexer": "ipython2",
   "version": "2.7.12"
  },
  "name": ""
 },
 "nbformat": 3,
 "nbformat_minor": 0,
 "worksheets": [
  {
   "cells": [
    {
     "cell_type": "code",
     "collapsed": false,
     "input": [
      "#Libraries to import here\n",
      "\n",
      "import os\n",
      "import subprocess\n",
      "import dateparser\n",
      "\n",
      "import pandas as pd\n",
      "import numpy as np\n"
     ],
     "language": "python",
     "metadata": {},
     "outputs": [],
     "prompt_number": 1
    },
    {
     "cell_type": "code",
     "collapsed": false,
     "input": [
      "#Initialize all regdata parameters here\n",
      "ilist = \"/home/kdalmia/Port_Trading/IR/ilist_audstir0\"\n",
      "ilist_modified=ilist +\"_modified\"\n",
      "start_date = \"20161101\"\n",
      "end_date = \"20170303\"\n",
      "start_time = \"AST_835\"\n",
      "end_time = \"AST_1615\"\n",
      "datagen_args = \"1000 0 0 \".split()\n",
      "pred_dur = \"300\"\n",
      "pred_algo = \"na_e3\"\n",
      "datefile=\"INVALIDFILE\"\n",
      "ftr = \"fsg1\"\n",
      "work_dir=\"/spare/local/kdalmia/\"\n",
      "out_file= work_dir+\"reg_out\"\n",
      "print(out_file)\n",
      "os.system(\"rm -rf \"+out_file)"
     ],
     "language": "python",
     "metadata": {},
     "outputs": [],
     "prompt_number": 2
    },
    {
     "cell_type": "code",
     "collapsed": false,
     "input": [
      "#Generate regdata\n",
      "reg_data_cmd = [\"/home/dvctrader/basetrade/ModelScripts/generate_reg_indicator_data.pl\",ilist,\n",
      "                start_date,end_date,\n",
      "                start_time,end_time] + datagen_args + [pred_dur,pred_algo,out_file,datefile,ftr]\n",
      "\n",
      "#reg_data_cmd = \" \".join(reg_data_cmd)\n",
      "#print(reg_data_cmd)\n",
      "#p1 = subprocess.Popen(reg_data_cmd, stdout=subprocess.PIPE,stderr=subprocess.PIPE,shell=True)\n",
      "out_regdata = subprocess.check_output(reg_data_cmd)\n",
      "\n",
      "#out_regdata = subprocess.check_output(reg_data_cmd)"
     ],
     "language": "python",
     "metadata": {
      "scrolled": false
     },
     "outputs": [],
     "prompt_number": 3
    },
    {
     "cell_type": "code",
     "collapsed": false,
     "input": [
      "#initialize ridge regress execs parameters\n",
      "regress_exec_params = \"4 0.8\"\n",
      "regdata_filename = out_file\n",
      "temp_model_filename = work_dir + \"temp_model_file_ridge\"\n",
      "result_model_filename = work_dir + \"ridge_result_model_file\"\n",
      "\n",
      "ridge_script = \"/home/dvctrader/basetrade/ModelScripts/build_unconstrained_ridge_model.R\"\n",
      "coeffs_script = \"/home/dvctrader/basetrade/ModelScripts/place_coeffs_in_model.pl\"\n",
      "ridge_exec_cmd = [ridge_script,regdata_filename] + regress_exec_params.split() + [temp_model_filename]\n",
      "coeffs_exec_cmd = [coeffs_script,result_model_filename,ilist_modified,temp_model_filename]\n",
      "#print(ridge_exec_cmd)\n",
      "ridge_exec_out = subprocess.check_output(ridge_exec_cmd)\n",
      "coeffs_exec_cmd = subprocess.check_output(coeffs_exec_cmd)\n",
      "\n",
      "s=\"\"\n",
      "f=open(result_model_filename,'r')\n",
      "s=f.read()\n",
      "print s\n",
      "f.close()\n"
     ],
     "language": "python",
     "metadata": {},
     "outputs": [],
     "prompt_number": 4
    },
    {
     "cell_type": "code",
     "collapsed": false,
     "input": [
      "#initalize FSRR regress exec parameters\n",
      "#params = \"regularization_coeff min_correlation first_indep_is_weight mult_include_first_k_independants \n",
      "#max_indep_correlation\n",
      "regress_exec_params = \"0.2 0.03 0 0 0.9\" \n",
      "max_model_size =\"4\"\n",
      "regdata_filename = out_file\n",
      "temp_model_filename = work_dir + \"temp_model_file_siglr\"\n",
      "result_model_filename = work_dir + \"fsrr_result_model_file\"\n",
      "\n",
      "fsrr_exec = \"/home/dvctrader/LiveExec/bin/callFSRR\"\n",
      "coeffs_script = \"/home/dvctrader/basetrade/ModelScripts/place_coeffs_in_model.pl\"\n",
      "fsrr_exec_cmd = [fsrr_exec,regdata_filename]+regress_exec_params.split()+ [temp_model_filename,max_model_size] \n",
      "coeffs_exec_cmd = [coeffs_script,result_model_filename,ilist_modified,temp_model_filename]\n",
      "\n",
      "fsrr_exec_out = subprocess.check_output(fsrr_exec_cmd)\n",
      "coeffs_exec_out = subprocess.check_output(coeffs_exec_cmd)\n",
      "\n",
      "s=\"\"\n",
      "f=open(result_model_filename,'r')\n",
      "s=f.read()\n",
      "print s\n",
      "f.close()\n",
      "\n"
     ],
     "language": "python",
     "metadata": {},
     "outputs": [],
     "prompt_number": 102
    },
    {
     "cell_type": "code",
     "collapsed": false,
     "input": [],
     "language": "python",
     "metadata": {},
     "outputs": [],
     "prompt_number": null
    },
    {
     "cell_type": "code",
     "collapsed": true,
     "input": [],
     "language": "python",
     "metadata": {},
     "outputs": [],
     "prompt_number": null
    }
   ],
   "metadata": {}
  }
 ]
}