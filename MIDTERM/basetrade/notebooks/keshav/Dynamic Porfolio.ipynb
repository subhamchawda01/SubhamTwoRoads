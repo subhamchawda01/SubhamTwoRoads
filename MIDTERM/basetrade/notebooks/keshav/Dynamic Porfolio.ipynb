{
 "metadata": {
  "anaconda-cloud": {},
  "kernelspec": {
   "display_name": "Python 2",
   "language": "python",
   "name": "python2"
  },
  "language_info": {
   "codemirror_mode": {
    "name": "ipython",
    "version": 2
   },
   "file_extension": ".py",
   "mimetype": "text/x-python",
   "name": "python",
   "nbconvert_exporter": "python",
   "pygments_lexer": "ipython2",
   "version": "2.7.12"
  },
  "name": ""
 },
 "nbformat": 3,
 "nbformat_minor": 0,
 "worksheets": [
  {
   "cells": [
    {
     "cell_type": "code",
     "collapsed": true,
     "input": [
      "import subprocess\n",
      "import pandas as pd\n",
      "import numpy as np\n",
      "import matplotlib.pyplot as plt\n",
      "import sys\n",
      "import os\n",
      "import io"
     ],
     "language": "python",
     "metadata": {},
     "outputs": [],
     "prompt_number": 2
    },
    {
     "cell_type": "code",
     "collapsed": true,
     "input": [
      "sys.path.append(os.path.expanduser('~/basetrade/')) # relying on PYTHONPATH\n",
      "\n",
      "from walkforward.utils import date_utils\n",
      "from walkforward.definitions import execs"
     ],
     "language": "python",
     "metadata": {},
     "outputs": [],
     "prompt_number": 3
    },
    {
     "cell_type": "code",
     "collapsed": true,
     "input": [
      "shc = \"XT_0\"\n",
      "p_start_time = \"AST_835\"\n",
      "p_end_time = \"AST_1600\"\n",
      "start_date = \"20160101\"\n",
      "end_date = \"20170530\"\n",
      "num_days=\"400\"\n",
      "f_shc = \"ZN_0\"\n",
      "f_start_time = \"EST_800\"\n",
      "f_end_time = \"EST_1600\"\n"
     ],
     "language": "python",
     "metadata": {},
     "outputs": [],
     "prompt_number": 8
    },
    {
     "cell_type": "code",
     "collapsed": false,
     "input": [
      "def load_config_date_pnl_map(shc , p_start_time , p_end_time , start_date , end_date):\n",
      "\n",
      "    #Get the PnL data for the set of strats using summarize_strategy\n",
      "    strat_list = \"/media/shared/ephemeral16/keshav/XT_0/AS/strat_list\"\n",
      "    summarize_pnl_command = [execs.execs().summarize_strategy , shc , strat_list , \"DB\" , str(start_date) , end_date , \"/media/shared/ephemeral16/keshav/XT_0/AS/skip_days\" , \"kCNAPnlSharpe\" , \"0\" , \"IF\" , \"0\"]\n",
      "    summarize_pnl_command=(' '.join(summarize_pnl_command))\n",
      "    process = subprocess.Popen(summarize_pnl_command, shell=True, stdout=subprocess.PIPE, stderr=subprocess.PIPE)\n",
      "    pnl_data,err = process.communicate()\n",
      "    pnl_data =pnl_data.split(\"\\n\")\n",
      "    #out = subprocess.check_output(summarize_pnl_command,shell=True)\n",
      "    #print pnl_data\n",
      "    for line in pnl_data:\n",
      "        if line == \"\" : continue\n",
      "        words = line.split(\" \")\n",
      "        if words[0] == \"STRATEGYFILEBASE\":\n",
      "            config = words[1]\n",
      "            config_date_pnl[config] = {}\n",
      "            continue\n",
      "        if words[0] == \"STATISTICS\":\n",
      "            print line\n",
      "            continue\n",
      "        date_ = int(words[0])\n",
      "        config_date_pnl[config][date_] = words[1]\n",
      "    #print config_date_pnl"
     ],
     "language": "python",
     "metadata": {},
     "outputs": [],
     "prompt_number": 136
    },
    {
     "cell_type": "code",
     "collapsed": false,
     "input": [
      "def get_split_days_list_prev_days_session(shortcode,start_time,end_time,start_date,num_days_to_compute_feature,feature,threshold_percentile_1,threshold_percentile_2):\n",
      "\n",
      "    avg_feature_val_cmd = [execs.execs().avg_samples,shortcode,str(start_date),str(num_days_to_compute_feature),start_time,end_time,'1', feature + \"> /media/shared/ephemeral16/keshav/out\"]\n",
      "    avg_feature_out = subprocess.Popen(' '.join(avg_feature_val_cmd), shell=True, stdout=subprocess.PIPE)\n",
      "    y_prev =avg_feature_out.communicate()[0]\n",
      "    #x = pd.read_fwf(io.StringIO(y_prev),header=None,widths=[8,7],skiprows=0,delimiter=' ')\n",
      "    x = pd.read_fwf(\"/media/shared/ephemeral16/keshav/out\",header=None,widths=[8,7],skiprows=0,delimiter=' ')\n",
      "    x=x.drop(0)\n",
      "    print x.head()\n",
      "    use_prev_day=1\n",
      "\n",
      "    x[0] = x[0].astype(int)\n",
      "    x[1] = x[1].astype(float)\n",
      "    threshold_percentile = float(threshold_percentile_1)\n",
      "    percentile_value_1 = np.percentile(x[1],threshold_percentile_1)\n",
      "    percentile_value_2 = np.percentile(x[1],threshold_percentile_2)\n",
      "    #print \"Feature Distribution \",\"min = \",min(x[1]), \" median = \",np.percentile(x[1],50), \" max = \",max(x[1])\n",
      "    print \"split_point = \",percentile_value_1,percentile_value_2\n",
      "    day_regime['next_week_day'] =map(lambda y: date_utils.calc_next_week_day(y) if use_prev_day == 1 else y,x[0])\n",
      "    day_regime['regime'] = map(lambda y: 1 if y <= percentile_value_2 else 2,x[1])\n",
      "    #print x.head()\n",
      "    #print x[x['regime']==2]['next_week_day']"
     ],
     "language": "python",
     "metadata": {},
     "outputs": [],
     "prompt_number": 5
    },
    {
     "cell_type": "code",
     "collapsed": false,
     "input": [
      "day_regime = pd.DataFrame([])\n",
      "get_split_days_list_prev_days_session(f_shc,f_start_time,f_end_time,end_date,num_days,\"STDEV\",30,75)\n",
      "print day_regime.tail()"
     ],
     "language": "python",
     "metadata": {},
     "outputs": [],
     "prompt_number": 9
    },
    {
     "cell_type": "code",
     "collapsed": false,
     "input": [
      "config_date_pnl = {}\n",
      "load_config_date_pnl_map(shc , p_start_time , p_end_time , start_date , end_date)\n",
      "\n"
     ],
     "language": "python",
     "metadata": {
      "scrolled": false
     },
     "outputs": [],
     "prompt_number": 137
    },
    {
     "cell_type": "code",
     "collapsed": false,
     "input": [
      "\n",
      "        "
     ],
     "language": "python",
     "metadata": {},
     "outputs": [],
     "prompt_number": 138
    },
    {
     "cell_type": "code",
     "collapsed": false,
     "input": [],
     "language": "python",
     "metadata": {},
     "outputs": [],
     "prompt_number": 178
    },
    {
     "cell_type": "code",
     "collapsed": false,
     "input": [
      "x = pd.read_csv(\"/media/shared/ephemeral16/keshav/XT_0/AS/pnl_data\",header = None, sep =' ')\n",
      "col_list = list(x)\n",
      "col_list.remove(0)\n",
      "x['combined_pnl'] = x[col_list].sum(axis=1)\n",
      "print x.head()\n",
      "print x['combined_pnl'].describe()\n",
      "x['cum_sum'] = x.combined_pnl.cumsum()\n",
      "plt.subplot(211)\n",
      "plt.plot(x['cum_sum'])\n",
      "plt.subplot(212)\n",
      "plt.plot(x[1].cumsum())\n",
      "plt.show()"
     ],
     "language": "python",
     "metadata": {},
     "outputs": [],
     "prompt_number": 19
    },
    {
     "cell_type": "code",
     "collapsed": false,
     "input": [
      "x.index = x[0]\n",
      "day_regime.index = day_regime['next_week_day']\n",
      "y =x.merge(day_regime, left_index=True, right_index=True, how = 'inner')"
     ],
     "language": "python",
     "metadata": {},
     "outputs": [],
     "prompt_number": 20
    },
    {
     "cell_type": "code",
     "collapsed": false,
     "input": [
      "w1 = np.array([2,2,1,1,0,0])\n",
      "w2 = np.array([2,0,0,0,2,2])\n",
      "data = y.iloc[::-1]\n",
      "data['cum_sum']=data.combined_pnl.cumsum()\n",
      "print data['combined_pnl'].describe()\n",
      "#print data.head()\n",
      "print w1[0]\n",
      "#plt.plot(data['cum_sum'])\n",
      "#plt.show()"
     ],
     "language": "python",
     "metadata": {},
     "outputs": [],
     "prompt_number": 56
    },
    {
     "cell_type": "code",
     "collapsed": false,
     "input": [
      "dynamic_pnl = pd.DataFrame([])\n",
      "data.loc[data.regime == 1, 'dynamic_pnl_1'] = data[1]*w1[0]\n",
      "data.loc[data.regime == 2, 'dynamic_pnl_1'] = data[1]*w2[0]\n",
      "data.loc[data.regime == 1, 'dynamic_pnl_2'] = data[2]*w1[1]\n",
      "data.loc[data.regime == 2, 'dynamic_pnl_2'] = data[2]*w2[1]\n",
      "data.loc[data.regime == 1, 'dynamic_pnl_3'] = data[3]*w1[2]\n",
      "data.loc[data.regime == 2, 'dynamic_pnl_3'] = data[3]*w2[2]\n",
      "data.loc[data.regime == 1, 'dynamic_pnl_4'] = data[4]*w1[3]\n",
      "data.loc[data.regime == 2, 'dynamic_pnl_4'] = data[4]*w2[3]\n",
      "data.loc[data.regime == 1, 'dynamic_pnl_5'] = data[5]*w1[4]\n",
      "data.loc[data.regime == 2, 'dynamic_pnl_5'] = data[5]*w2[4]\n",
      "data.loc[data.regime == 1, 'dynamic_pnl_6'] = data[6]*w1[5]\n",
      "data.loc[data.regime == 2, 'dynamic_pnl_6'] = data[6]*w2[5]\n",
      "col_list = ['dynamic_pnl_1','dynamic_pnl_2','dynamic_pnl_3','dynamic_pnl_4','dynamic_pnl_5','dynamic_pnl_6']\n",
      "test = data[col_list].sum(axis=1)\n"
     ],
     "language": "python",
     "metadata": {},
     "outputs": [],
     "prompt_number": 81
    },
    {
     "cell_type": "code",
     "collapsed": false,
     "input": [
      "#print data.head()\n",
      "print data['combined_pnl'].describe()\n",
      "data=data.reset_index(drop=True)\n",
      "cumulative_dynamic_pnl = np.cumsum(test)\n",
      "print test.describe()\n",
      "plt.subplot(211)\n",
      "plt.plot(cumulative_dynamic_pnl)\n",
      "plt.subplot(212)\n",
      "plt.plot(data['cum_sum'])\n",
      "plt.show()\n",
      "\n",
      "print \"Statistics of Dynamic Portfolio mean : \" ,np.mean(test) ,\"Sharpe : \" ,np.mean(test)/np.std(test) \n",
      "print \"Statistics of Static Portfolio mean : \" ,np.mean(data['combined_pnl']) ,\"Sharpe : \" ,np.mean(data['combined_pnl'])/np.std(data['combined_pnl'])"
     ],
     "language": "python",
     "metadata": {},
     "outputs": [],
     "prompt_number": 102
    },
    {
     "cell_type": "code",
     "collapsed": true,
     "input": [],
     "language": "python",
     "metadata": {},
     "outputs": [],
     "prompt_number": null
    }
   ],
   "metadata": {}
  }
 ]
}