{
 "metadata": {
  "anaconda-cloud": {},
  "kernelspec": {
   "display_name": "R",
   "language": "R",
   "name": "ir"
  },
  "language_info": {
   "codemirror_mode": "r",
   "file_extension": ".r",
   "mimetype": "text/x-r-source",
   "name": "R",
   "pygments_lexer": "r",
   "version": "3.3.2"
  },
  "name": ""
 },
 "nbformat": 3,
 "nbformat_minor": 0,
 "worksheets": [
  {
   "cells": [
    {
     "cell_type": "code",
     "collapsed": false,
     "input": [
      "options(scipen=999)\n",
      "HOME_DIR <- Sys.getenv(\"HOME\");\n",
      "USER <- Sys.getenv(\"USER\");\n",
      "REPO <- \"basetrade\";\n",
      "SCRIPTS_DIR <- paste(HOME_DIR, \"/\", REPO, \"/scripts/\", sep=\"\");\n",
      "work_dir <- \"/home/kdalmia/NIY_Estimation/\""
     ],
     "language": "python",
     "metadata": {},
     "outputs": [],
     "prompt_number": 1
    },
    {
     "cell_type": "code",
     "collapsed": true,
     "input": [
      "shortcode=\"NIY_0\"\n",
      "start_date=\"20170207\"\n",
      "num_days=\"250\"\n",
      "lookback_days=20\n",
      "lookahead_days=5\n",
      "sampling=10\n",
      "mode=1\n"
     ],
     "language": "python",
     "metadata": {},
     "outputs": [],
     "prompt_number": 2
    },
    {
     "cell_type": "code",
     "collapsed": false,
     "input": [
      "GetListOfDates <- function ( )  {\n",
      "script <- paste (SCRIPTS_DIR, \"get_list_of_dates_for_shortcode.pl\", sep=\"\");\n",
      "dates <- system ( sprintf(\"%s %s %s %s 2>/dev/null\",script, shortcode, start_date, num_days),intern=TRUE);\n",
      "list_of_dates <<- unlist(strsplit(dates, \"\\\\ \"));\n",
      "}\n"
     ],
     "language": "python",
     "metadata": {},
     "outputs": [],
     "prompt_number": 3
    },
    {
     "cell_type": "code",
     "collapsed": false,
     "input": [
      "AppendDate <- function(sampling,num_days){\n",
      "for (i in 1:as.numeric(num_days)) {\n",
      "t_sampled_data=NULL\n",
      "d_file <-paste(work_dir,\"dgen_out_\",sep=\"\")\n",
      "d_file <-paste(d_file,list_of_dates[i],sep=\"\")\n",
      "#print(d_file)\n",
      "if(file.exists(d_file)){\n",
      "data=read.table(d_file)\n",
      "a=nrow(data)\n",
      "b=seq(1,a,sampling)\n",
      "t_sampled_data=data[b,]\n",
      "t_sampled_data[,ncol(t_sampled_data)+1]=as.numeric(list_of_dates[i])\n",
      "sampled_data <<-rbind(sampled_data,t_sampled_data)\n",
      "    \n",
      "}\n",
      "    else\n",
      "        next\n",
      "}\n",
      "}\n"
     ],
     "language": "python",
     "metadata": {},
     "outputs": [],
     "prompt_number": 4
    },
    {
     "cell_type": "code",
     "collapsed": false,
     "input": [
      "GetRegressionData <- function(lookback_days,day) {\n",
      "    regression_data<<-subset(sampled_data,sampled_data[,ncol(sampled_data)] < as.numeric(list_of_dates[day]) & sampled_data[,ncol(sampled_data)] >= as.numeric(list_of_dates[day+lookback_days]))\n",
      "}\n"
     ],
     "language": "python",
     "metadata": {},
     "outputs": [],
     "prompt_number": 5
    },
    {
     "cell_type": "code",
     "collapsed": false,
     "input": [
      "regression_weights <- function(mode) {\n",
      "j=mode*3+2\n",
      "fit = lm(regression_data[,j+1] ~ regression_data[,j]+regression_data[,j+2]+0, data = regression_data)\n",
      "w1=summary(fit)$coefficients[1, 1]\n",
      "w2=summary(fit)$coefficients[2, 1]\n",
      "weights=c(w1,w2)\n",
      "return(weights)\n",
      "}"
     ],
     "language": "python",
     "metadata": {},
     "outputs": [],
     "prompt_number": 6
    },
    {
     "cell_type": "code",
     "collapsed": false,
     "input": [
      "OutSamplePerformance <-function(lookahead_days,day,mode){\n",
      "out_sample_data=subset(sampled_data,sampled_data[,ncol(sampled_data)] >= as.numeric(list_of_dates[day]) & sampled_data[,ncol(sampled_data)] < as.numeric(list_of_dates[day-lookahead_days]))\n",
      "j= mode*3+2\n",
      "pred_value= weights[1]* out_sample_data[,j] + weights[2]* out_sample_data[,j+2]\n",
      "out_sample_cor[day]<<-cor(pred_value,out_sample_data[,j+1])\n",
      "}"
     ],
     "language": "python",
     "metadata": {},
     "outputs": [],
     "prompt_number": 7
    },
    {
     "cell_type": "code",
     "collapsed": false,
     "input": [
      "# Run it only at the beginning for sampling of data\n",
      "list_of_dates <-NULL\n",
      "GetListOfDates();\n",
      "sampled_data=NULL\n",
      "AppendDate(sampling,num_days)\n"
     ],
     "language": "python",
     "metadata": {},
     "outputs": [],
     "prompt_number": 8
    },
    {
     "cell_type": "code",
     "collapsed": false,
     "input": [
      "regression_data=NULL\n",
      "out_sample_cor=NULL\n",
      "weights=NULL\n",
      "for (i in (lookahead_days+1) : (as.numeric(num_days)-lookback_days) ) {\n",
      "    GetRegressionData(lookback_days,i)\n",
      "    weights=regression_weights(1)\n",
      "    OutSamplePerformance(lookahead_days,i,mode)\n",
      "}\n",
      "    summary(out_sample_cor)\n",
      "   # summary(weights)\n",
      "\n"
     ],
     "language": "python",
     "metadata": {},
     "outputs": [],
     "prompt_number": 9
    },
    {
     "cell_type": "code",
     "collapsed": true,
     "input": [],
     "language": "python",
     "metadata": {},
     "outputs": [],
     "prompt_number": null
    },
    {
     "cell_type": "code",
     "collapsed": false,
     "input": [
      "GetStaticPerformance <-function(mode,data_table)\n",
      "{\n",
      "j=mode*3+2\n",
      "print(cor(data_table[,j+1],data_table[,j]))\n",
      "print(cor(data_table[,j+1],data_table[,j+2]))\n",
      "fit = lm(data_table[,j+1] ~ data_table[,j]+data_table[,j+2]+0, data = data_table)\n",
      "w1=summary(fit)$coefficients[1, 1]\n",
      "w2=summary(fit)$coefficients[2, 1]\n",
      "static_weights=c(w1,w2)\n",
      "print(static_weights)\n",
      "pred_value = static_weights[1]*data_table[,j] + static_weights[2]* data_table[,j+2]\n",
      "print(cor(pred_value,data_table[,j+1]))    \n",
      "}"
     ],
     "language": "python",
     "metadata": {},
     "outputs": [],
     "prompt_number": 10
    },
    {
     "cell_type": "code",
     "collapsed": false,
     "input": [
      "GetStaticPerformance(1,sampled_data)"
     ],
     "language": "python",
     "metadata": {},
     "outputs": [],
     "prompt_number": 11
    },
    {
     "cell_type": "code",
     "collapsed": false,
     "input": [
      "# AS EU session volume in nkm\n",
      "\n",
      "nkm_volume_data=read.table(\"/media/shared/ephemeral16/keshav/nkm_volume_as_eu\")\n",
      "percentile=0.9\n",
      "vol_percentile =quantile(nkm_volume_data[,2],percentile)\n",
      "high_volume_days=nkm_volume_data[which(nkm_volume_data[,2]>vol_percentile),1]\n",
      "\n",
      "vol_percentile\n",
      "high_volume_days\n",
      "data=sampled_data[sampled_data[,ncol(sampled_data)] %in% high_volume_days,]\n",
      "#nrow(data)\n",
      "cor(data[,5],data[,6])\n",
      "cor(data[,6],data[,7])"
     ],
     "language": "python",
     "metadata": {},
     "outputs": [],
     "prompt_number": 12
    },
    {
     "cell_type": "code",
     "collapsed": false,
     "input": [
      "#BOJ 3 degre days\n",
      "\n",
      "boj_days=readLines(\"/media/shared/ephemeral16/keshav/jpy_3_degree_days_2016\")\n",
      "boj_days = as.numeric(boj_days)\n",
      "boj_days\n",
      "event_data=sampled_data[sampled_data[,ncol(sampled_data)] %in% boj_days,]\n",
      "#nrow(event_data)\n",
      "#event_data[1,]\n",
      "cor(event_data[,5],event_data[,6])\n",
      "cor(event_data[,6],event_data[,7])\n",
      "#summary(event_data)\n"
     ],
     "language": "python",
     "metadata": {},
     "outputs": [],
     "prompt_number": 13
    },
    {
     "cell_type": "code",
     "collapsed": false,
     "input": [
      "# Last day Stdev weighted trends\n",
      "\n",
      "get_avg_sample_script <- paste (SCRIPTS_DIR, \"get_avg_samples.pl\", sep=\"\");\n",
      "avg_stdev_es<- system ( sprintf(\"%s %s %s %s %s %s %s %s 2>/dev/null\",get_avg_sample_script,\"ES_0\",\"20170207\",\"250\",\"EST_800\"\n",
      "                               ,\"UTC_2100\",\"0\",\"STDEV\"),intern=TRUE);\n",
      "avg_stdev_es <- as.numeric(gsub(\"^.*\\\\:\",\"\", avg_stdev_es ))\n",
      "avg_stdev_es\n",
      "\n",
      "avg_stdev_6J<- system ( sprintf(\"%s %s %s %s %s %s %s %s 2>/dev/null\",get_avg_sample_script,\"6J_0\",\"20170207\",\"250\",\"EST_800\"\n",
      "                               ,\"UTC_2100\",\"0\",\"STDEV\"),intern=TRUE);\n",
      "avg_stdev_6J <- as.numeric(gsub(\"^.*\\\\:\",\"\", avg_stdev_6J ))\n",
      "avg_stdev_6J\n",
      "\n"
     ],
     "language": "python",
     "metadata": {},
     "outputs": [],
     "prompt_number": 14
    },
    {
     "cell_type": "code",
     "collapsed": false,
     "input": [
      "get_last_day_stdev <- function(start_date,shortcode) {\n",
      "\n",
      "i=match(start_date,date_list)\n",
      "prev_date=date_list[i+1]\n",
      "#print(prev_date)\n",
      "last_day_stdev <- system ( sprintf(\"%s %s %s %s %s %s %s %s 2>/dev/null\",get_avg_sample_script,shortcode,prev_date,\"1\",\"EST_800\"\n",
      "                               ,\"UTC_2100\",\"1\",\"STDEV\"),intern=TRUE);\n",
      "#print(last_day_stdev)\n",
      "last_day_stdev= unlist(strsplit(last_day_stdev[2], \"\\\\ \"));\n",
      "last_day_stdev =as.numeric(last_day_stdev[2])\n",
      "#last_day_stdev <- as.numeric(gsub(\"^.*\\\\:\",\"\", last_day_stdev))\n",
      "\n",
      "return(last_day_stdev)\n",
      "}"
     ],
     "language": "python",
     "metadata": {},
     "outputs": [],
     "prompt_number": 15
    },
    {
     "cell_type": "code",
     "collapsed": false,
     "input": [
      "stdev_scaled_data=sampled_data\n",
      "#length(stdev_scaled_data[,8])\n",
      "date_list=unique(stdev_scaled_data[,8])\n",
      "stdev_es <-sapply(date_list[1:length(date_list)-1],function(x) get_last_day_stdev(x,\"ES_0\") )\n",
      "stdev_6J <- sapply(date_list[1:length(date_list)-1],function(x) get_last_day_stdev(x,\"6J_0\") )\n",
      "#stdev_scaled_data[,5] = stdev_scaled_data[,5]* get_last_day_stdev(stdev_scaled_data[,ncol(stdev_scaled_data)],\"ES_0\")/avg_stdev_es\n",
      "#stdev_scaled_data[,7] = stdev_scaled_data[,7]* get_last_day_stdev(stdev_scaled_data[,ncol(stdev_scaled_data)],\"6J_0\")/avg_stdev_6J\n",
      "#length(unique(stdev_es))"
     ],
     "language": "python",
     "metadata": {},
     "outputs": [],
     "prompt_number": 16
    },
    {
     "cell_type": "code",
     "collapsed": false,
     "input": [
      "#GetStaticPerformance(1,stdev_scaled_data)\n",
      "#get_last_day_stdev(stdev_scaled_data[,ncol(stdev_scaled_data)],\n",
      "length(stdev_es)\n",
      "stdev_scaled_data[,5]=sampled_data[,5]*stdev_es[match(sampled_data[,8],date_list)]/avg_stdev_es\n",
      "stdev_scaled_data[,7]=sampled_data[,7]*stdev_6J[match(sampled_data[,8],date_list)]/avg_stdev_6J\n",
      "stdev_scaled_data=stdev_scaled_data[complete.cases(stdev_scaled_data),]\n",
      "#any(is.na(stdev_scaled_data[,5]))\n",
      "GetStaticPerformance(1,stdev_scaled_data)"
     ],
     "language": "python",
     "metadata": {},
     "outputs": [],
     "prompt_number": 17
    },
    {
     "cell_type": "code",
     "collapsed": false,
     "input": [
      "# PCA Analysis\n",
      "\n",
      "es_6j_data=sampled_data[,5]\n",
      "es_6j_data=cbind(es_6j_data,sampled_data[,7])\n",
      "#summary(es_6j_data)\n",
      "out.pca <- prcomp(es_6j_data,center = TRUE,scale. = TRUE)\n",
      "print(out.pca)\n",
      "summary(out.pca)"
     ],
     "language": "python",
     "metadata": {},
     "outputs": [],
     "prompt_number": 26
    },
    {
     "cell_type": "code",
     "collapsed": true,
     "input": [],
     "language": "python",
     "metadata": {},
     "outputs": [],
     "prompt_number": null
    }
   ],
   "metadata": {}
  }
 ]
}