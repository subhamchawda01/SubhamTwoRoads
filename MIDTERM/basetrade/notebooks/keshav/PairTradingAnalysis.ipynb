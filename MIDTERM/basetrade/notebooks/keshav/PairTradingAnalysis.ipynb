{
 "metadata": {
  "anaconda-cloud": {},
  "kernelspec": {
   "display_name": "R",
   "language": "R",
   "name": "ir"
  },
  "language_info": {
   "codemirror_mode": "r",
   "file_extension": ".r",
   "mimetype": "text/x-r-source",
   "name": "R",
   "pygments_lexer": "r",
   "version": "3.3.2"
  },
  "name": ""
 },
 "nbformat": 3,
 "nbformat_minor": 0,
 "worksheets": [
  {
   "cells": [
    {
     "cell_type": "code",
     "collapsed": false,
     "input": [
      "options(scipen=999)\n",
      "HOME_DIR <- Sys.getenv(\"HOME\");\n",
      "USER <- Sys.getenv(\"USER\");\n",
      "REPO <- \"basetrade\";\n",
      "BIN_DIR <- paste(HOME_DIR,\"/basetrade_install/bin/\",sep=\"\")\n",
      "SCRIPTS_DIR <- paste(HOME_DIR, \"/\", REPO, \"/scripts/\", sep=\"\");\n"
     ],
     "language": "python",
     "metadata": {},
     "outputs": [],
     "prompt_number": 125
    },
    {
     "cell_type": "code",
     "collapsed": true,
     "input": [
      "#User Inputs\n",
      "\n",
      "work_dir= \"/spare/local/kdalmia/\"\n",
      "shortcode= \"NIY_0\"\n",
      "start_date = \"20170221\"\n",
      "num_days_lookback = \"30\"\n",
      "model_file =\"/media/shared/ephemeral16/keshav/Port_Trading/IR/nkd_niy_model_1\"\n",
      "start_time =\"EST_800\"\n",
      "end_time= \"UTC_2100\"\n",
      "dgen_msecs = \"1000\"\n",
      "dgen_l1events = \"0\" \n",
      "dgen_trades = \"0\" \n",
      "to_print_on_eco = \"0\"\n",
      "portfolio = \"CMEEQ\"\n",
      "mr_trend_duration =\"100\"  # Mean reversion Trend Duration\n",
      "mr_stdev_duration = \"300\" # Stdev Duration"
     ],
     "language": "python",
     "metadata": {},
     "outputs": [],
     "prompt_number": 126
    },
    {
     "cell_type": "code",
     "collapsed": true,
     "input": [
      "GetListOfDates <- function ( ) {\n",
      "    script <- paste (SCRIPTS_DIR, \"get_list_of_dates_for_shortcode.pl\", sep=\"\");\n",
      "    dates <- system ( sprintf(\"%s %s %s %s 2>/dev/null\",script, shortcode, start_date, num_days_lookback),intern=TRUE);\n",
      "    list_of_dates <- unlist(strsplit(dates, \"\\\\ \"));\n",
      "    return(list_of_dates)\n",
      "}\n"
     ],
     "language": "python",
     "metadata": {},
     "outputs": [],
     "prompt_number": 127
    },
    {
     "cell_type": "code",
     "collapsed": false,
     "input": [
      "#Get Securities From Portfolio\n",
      "portfolio_string = grep(portfolio, readLines(\"/spare/local/tradeinfo/PairTradeInfo/portfolio_inputs.txt\"), value = TRUE)\n",
      "x= unlist(strsplit(portfolio_string,\"\\\\ \"))\n",
      "shortcode_vec = x[2:((length(x)-1)/2+1)]\n"
     ],
     "language": "python",
     "metadata": {},
     "outputs": [],
     "prompt_number": 128
    },
    {
     "cell_type": "code",
     "collapsed": false,
     "input": [
      "# Generate ilists for mean reversion signal\n",
      "mr_signal_file = paste(work_dir ,\"mr_output.txt\",sep = \"\")\n",
      "fileConn<-file(mr_signal_file)\n",
      "#l1 = paste(\"MODELINIT DEPBASE\",shortcode_vec[1],\"MktSizeWPrice MktSizeWPrice\",sep=\" \")\n",
      "#l2 = \"MODELMATH LINEAR CHANGE\"\n",
      "#l3 = \"INDICATORSTART\"\n",
      "l4 = paste(\"INDICATOR 1 SimpleTrend\",portfolio,mr_trend_duration,\"MktSizeWPrice\",sep = \" \")\n",
      "l5 = paste(\"INDICATOR 1 SimpleTrend\",shortcode_vec[1],mr_trend_duration,\"MktSizeWPrice\",sep = \" \")\n",
      "l6 = paste(\"INDICATOR 1 SimpleTrend\",shortcode_vec[2],mr_trend_duration,\"MktSizeWPrice\",sep = \" \")\n",
      "l7 = paste(\"INDICATOR 1 SlowStdevCalculator\",shortcode_vec[1],mr_stdev_duration,\"MktSizeWPrice\",\"0.1\",sep = \" \")\n",
      "l8 = paste(\"INDICATOR 1 SlowStdevCalculator\",shortcode_vec[2],mr_stdev_duration,\"MktSizeWPrice\",\"0.1\",sep = \" \")\n",
      "l9 = \"INDICATOREND\"\n",
      "writeLines(c(l4,l5,l6,l7,l8,l9), fileConn)\n",
      "close(fileConn)\n",
      "\n"
     ],
     "language": "python",
     "metadata": {},
     "outputs": [],
     "prompt_number": 129
    },
    {
     "cell_type": "code",
     "collapsed": false,
     "input": [
      "# Appending mean reversion ilist to model_file\n",
      "model_file_copy = paste(work_dir,\"model_file_copy\",sep=\"\")\n",
      "indicator_file = paste(work_dir,\"indicator_file\",sep=\"\")\n",
      "system ( sprintf(\"cp %s %s\",model_file, model_file_copy));\n",
      "system ( sprintf(\"cat %s | grep -v INDICATOREND > %s\",model_file_copy,indicator_file));\n",
      "file.append(indicator_file,mr_signal_file)\n",
      "system(sprintf(\"sed -i '/^$/d' %s\" ,indicator_file))\n"
     ],
     "language": "python",
     "metadata": {},
     "outputs": [],
     "prompt_number": 130
    },
    {
     "cell_type": "code",
     "collapsed": true,
     "input": [
      "# Datagen run on complete ilist\n",
      "date_list = GetListOfDates()\n",
      "t_dgen_outfile <- paste( work_dir, \"t_dgen_outfile\", sep=\"\" );\n",
      "t_dgen_outfile_sum_vars_ <- paste(\"WEIGHTED@\",t_dgen_outfile ,sep=\"\" );\n",
      "catted_dgen_outfile <- paste(work_dir,\"catted_dgen_outfile\",sep = \"\")\n",
      "datagen_exec <- paste(BIN_DIR, \"datagen\", sep=\"\");\n",
      "for (trading_date in date_list) { \n",
      "system (sprintf( \"%s %s %s %s %s %s %s %s %s %s %s 2>/dev/null\", datagen_exec, indicator_file,  \n",
      "                  trading_date, start_time, end_time, 22222, t_dgen_outfile_sum_vars_ , dgen_msecs, \n",
      "                  dgen_l1events, dgen_trades, to_print_on_eco ));\n",
      "system ( sprintf ( \"cat %s >> %s\", t_dgen_outfile,catted_dgen_outfile) ); \n",
      "}"
     ],
     "language": "python",
     "metadata": {},
     "outputs": [],
     "prompt_number": 131
    },
    {
     "cell_type": "code",
     "collapsed": false,
     "input": [
      "#Compute sum_vars and mean reversion signals for both securities\n",
      "data=read.table(catted_dgen_outfile)\n",
      "model_sum_var_data = data[,5:(ncol(data)-5)]\n",
      "mean_reversion_data = data[,(ncol(data)-4):ncol(data)]\n",
      "sum_var_1 =apply(model_sum_var_data,1,function(x) sum(x))   # Model sum_var for first security\n",
      "sum_var_2 = sum_var_1 * mean_reversion_data[,5]/mean_reversion_data[,4] # Model sum var for 2nd security\n",
      "mr_signal_1 = mean_reversion_data[,1] - mean_reversion_data[,2] # MR signal for 1st security\n",
      "mr_signal_2 = (mean_reversion_data[,1]* mean_reversion_data[,5]/mean_reversion_data[,4])- mean_reversion_data[,3] # MR signal for 2nd security \n",
      "\n"
     ],
     "language": "python",
     "metadata": {},
     "outputs": [],
     "prompt_number": 132
    },
    {
     "cell_type": "code",
     "collapsed": false,
     "input": [
      "# Signal Statistics\n",
      "sd(sum_var_1)\n",
      "sd(sum_var_2)\n",
      "sd(mr_signal_1)\n",
      "sd(mr_signal_2)\n",
      "cor(sum_var_1,mr_signal_1)\n",
      "cor(sum_var_2,mr_signal_2)\n",
      "cor(mr_signal_1,mr_signal_2)"
     ],
     "language": "python",
     "metadata": {},
     "outputs": [],
     "prompt_number": 133
    },
    {
     "cell_type": "code",
     "collapsed": false,
     "input": [
      "sd(mean_reversion_data[,3])\n",
      "sd(mean_reversion_data[,2])\n",
      "sd(mean_reversion_data[,1])\n",
      "mean(mean_reversion_data[,4])\n",
      "mean(mean_reversion_data[,5])\n",
      "summary(mr_signal_1)\n",
      "summary(mr_signal_2)\n",
      "summary(mean_reversion_data[,4])\n",
      "summary(mean_reversion_data[,5])\n",
      "summary(mean_reversion_data[,4]/mean_reversion_data[,5])\n"
     ],
     "language": "python",
     "metadata": {},
     "outputs": [],
     "prompt_number": 138
    },
    {
     "cell_type": "code",
     "collapsed": false,
     "input": [
      "test_array = mean_reversion_data[,4]/mean_reversion_data[,5]\n",
      "max(test_array)\n",
      "x = which(test_array > 100)\n",
      "mean_reversion_data[x,4]\n",
      "mean_reversion_data[x,5]\n"
     ],
     "language": "python",
     "metadata": {},
     "outputs": [],
     "prompt_number": 143
    }
   ],
   "metadata": {}
  }
 ]
}