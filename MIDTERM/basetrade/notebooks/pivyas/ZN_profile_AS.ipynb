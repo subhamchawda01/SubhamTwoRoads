{
 "metadata": {
  "anaconda-cloud": {},
  "kernelspec": {
   "display_name": "Python 2",
   "language": "python",
   "name": "python2"
  },
  "language_info": {
   "codemirror_mode": {
    "name": "ipython",
    "version": 2
   },
   "file_extension": ".py",
   "mimetype": "text/x-python",
   "name": "python",
   "nbconvert_exporter": "python",
   "pygments_lexer": "ipython2",
   "version": "2.7.12"
  },
  "name": ""
 },
 "nbformat": 3,
 "nbformat_minor": 0,
 "worksheets": [
  {
   "cells": [
    {
     "cell_type": "code",
     "collapsed": true,
     "input": [
      "import numpy\n",
      "import numpy as np\n",
      "import pandas as pd\n",
      "import matplotlib.pyplot as plt"
     ],
     "language": "python",
     "metadata": {},
     "outputs": [],
     "prompt_number": 136
    },
    {
     "cell_type": "code",
     "collapsed": true,
     "input": [
      "df = pd.read_csv(\"/media/shared/ephemeral16/pivyas/ZN_0/ZN_details_AS\",sep='\\t',header=None)"
     ],
     "language": "python",
     "metadata": {},
     "outputs": [],
     "prompt_number": 137
    },
    {
     "cell_type": "code",
     "collapsed": false,
     "input": [
      "df.shape"
     ],
     "language": "python",
     "metadata": {},
     "outputs": [],
     "prompt_number": 138
    },
    {
     "cell_type": "code",
     "collapsed": false,
     "input": [
      "df.head()"
     ],
     "language": "python",
     "metadata": {},
     "outputs": [],
     "prompt_number": 139
    },
    {
     "cell_type": "code",
     "collapsed": true,
     "input": [
      "df.columns=['Date','L1SZ','STDEV','TREND','VOL']"
     ],
     "language": "python",
     "metadata": {},
     "outputs": [],
     "prompt_number": 140
    },
    {
     "cell_type": "code",
     "collapsed": false,
     "input": [
      "df['STDEV_in_TICK'] = df['STDEV']/0.015625"
     ],
     "language": "python",
     "metadata": {},
     "outputs": [],
     "prompt_number": 141
    },
    {
     "cell_type": "code",
     "collapsed": true,
     "input": [
      "#df['STDEV_mult_L1SZ'] = map(lambda x,y: x*y,df['STDEV_in_TICK'],df['L1SZ'])"
     ],
     "language": "python",
     "metadata": {},
     "outputs": [],
     "prompt_number": 142
    },
    {
     "cell_type": "code",
     "collapsed": false,
     "input": [
      "df.sort_values(by='Date',ascending=True,inplace=True)"
     ],
     "language": "python",
     "metadata": {},
     "outputs": [],
     "prompt_number": 143
    },
    {
     "cell_type": "code",
     "collapsed": false,
     "input": [
      "#df2 = df\n",
      "df2 = df[((df['Date'] != 20160624) & (df['Date'] != 20161109))]\n",
      "print df2.shape"
     ],
     "language": "python",
     "metadata": {},
     "outputs": [],
     "prompt_number": 144
    },
    {
     "cell_type": "code",
     "collapsed": false,
     "input": [
      "df2 = df2.reset_index().drop('index',axis=1)"
     ],
     "language": "python",
     "metadata": {},
     "outputs": [],
     "prompt_number": 145
    },
    {
     "cell_type": "code",
     "collapsed": false,
     "input": [
      "df2.head()"
     ],
     "language": "python",
     "metadata": {},
     "outputs": [],
     "prompt_number": 146
    },
    {
     "cell_type": "code",
     "collapsed": false,
     "input": [
      "df2.describe()"
     ],
     "language": "python",
     "metadata": {},
     "outputs": [],
     "prompt_number": 147
    },
    {
     "cell_type": "code",
     "collapsed": false,
     "input": [
      "fig, ax  = plt.subplots(figsize=(20, 5))\n",
      "y = df2['L1SZ']\n",
      "a = ax.plot(y,label='Data')\n",
      "b = ax.plot([y.mean() for i in df.index],label='Mean',linestyle='--')\n",
      "#c = ax.plot([y.median() for i in df.index],label='Median',linestyle='--')\n",
      "legend = ax.legend(loc='upper right')\n",
      "plt.show()"
     ],
     "language": "python",
     "metadata": {
      "scrolled": true
     },
     "outputs": [],
     "prompt_number": 148
    },
    {
     "cell_type": "code",
     "collapsed": false,
     "input": [
      "fig, ax  = plt.subplots(figsize=(20, 5))\n",
      "y = df2['VOL']\n",
      "a = ax.plot(y,label='Data')\n",
      "b = ax.plot([y.mean() for i in df.index],label='Mean',linestyle='--')\n",
      "#c = ax.plot([y.median() for i in df.index],label='Median',linestyle='--')\n",
      "legend = ax.legend(loc='upper right')\n",
      "plt.show()"
     ],
     "language": "python",
     "metadata": {
      "scrolled": false
     },
     "outputs": [],
     "prompt_number": 149
    },
    {
     "cell_type": "code",
     "collapsed": false,
     "input": [
      "fig, ax  = plt.subplots(figsize=(20, 5))\n",
      "y = df2['STDEV_in_TICK']\n",
      "a = ax.plot(y,label='Data')\n",
      "b = ax.plot([y.mean() for i in df.index],label='Mean',linestyle='--')\n",
      "#c = ax.plot([y.median() for i in df.index],label='Median',linestyle='--')\n",
      "legend = ax.legend(loc='upper right')\n",
      "plt.show()"
     ],
     "language": "python",
     "metadata": {},
     "outputs": [],
     "prompt_number": 150
    },
    {
     "cell_type": "code",
     "collapsed": false,
     "input": [
      "fig, ax  = plt.subplots(figsize=(20, 5))\n",
      "y = df2['TREND']\n",
      "a = ax.plot(y,label='Data')\n",
      "b = ax.plot([y.mean() for i in df.index],label='Mean',linestyle='--')\n",
      "#c = ax.plot([y.median() for i in df.index],label='Median',linestyle='--')\n",
      "legend = ax.legend(loc='upper right')\n",
      "plt.show()"
     ],
     "language": "python",
     "metadata": {},
     "outputs": [],
     "prompt_number": 151
    },
    {
     "cell_type": "code",
     "collapsed": false,
     "input": [],
     "language": "python",
     "metadata": {},
     "outputs": [],
     "prompt_number": null
    },
    {
     "cell_type": "code",
     "collapsed": false,
     "input": [
      "df2.head()"
     ],
     "language": "python",
     "metadata": {},
     "outputs": [],
     "prompt_number": 152
    },
    {
     "cell_type": "code",
     "collapsed": false,
     "input": [
      "for index, row in df2.iterrows():\n",
      "    x = df2.ix[index]['STDEV_in_TICK']\n",
      "    if x > 2:\n",
      "        print int(df2.ix[index]['Date'])"
     ],
     "language": "python",
     "metadata": {},
     "outputs": [],
     "prompt_number": 153
    },
    {
     "cell_type": "code",
     "collapsed": true,
     "input": [],
     "language": "python",
     "metadata": {},
     "outputs": [],
     "prompt_number": null
    }
   ],
   "metadata": {}
  }
 ]
}